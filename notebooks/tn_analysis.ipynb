{
 "cells": [
  {
   "cell_type": "code",
   "execution_count": null,
   "id": "19894b6d",
   "metadata": {},
   "outputs": [],
   "source": [
    "import pandas as pd\n",
    "import re\n",
    "from collections import namedtuple\n",
    "import pdfplumber\n",
    "import os \n",
    "pd.set_option('display.max_rows', 500)\n",
    "pd.set_option('display.max_columns', 500)\n",
    "pd.set_option('display.width', 1000)\n",
    "import numpy as np"
   ]
  },
  {
   "cell_type": "markdown",
   "id": "90597e14",
   "metadata": {},
   "source": [
    "### 1. Importing and  merging pop files\n",
    "### 2. Adding Metropolitans and Micropolitans"
   ]
  },
  {
   "cell_type": "code",
   "execution_count": null,
   "id": "8cff466f",
   "metadata": {},
   "outputs": [],
   "source": [
    "pop_2010_2019 = pd.read_excel('../data/raw_data/TN/pop_est_2010-2019_tn.xlsx',sheet_name='Sheet1')\n",
    "pop_2010_2019 = pd.DataFrame(pop_2010_2019)\n",
    "pop_2010_2019 = pop_2010_2019.drop(['Census','Estimates Base',2010,2011,2012],axis=1)\n",
    "pop_2010_2019.head()"
   ]
  },
  {
   "cell_type": "code",
   "execution_count": null,
   "id": "5221c367",
   "metadata": {},
   "outputs": [],
   "source": [
    "pop_2020_2021 = pd.read_excel('../data/raw_data/TN/pop_est_2020-2021_tn.xlsx',sheet_name='Sheet1')\n",
    "pop_2020_2021 = pd.DataFrame(pop_2020_2021)\n",
    "pop_2020_2021 = pop_2020_2021.drop('Estimates Base',axis=1)\n",
    "pop_2020_2021.head()"
   ]
  },
  {
   "cell_type": "code",
   "execution_count": null,
   "id": "627e9b32",
   "metadata": {},
   "outputs": [],
   "source": [
    "pop_combined = pd.merge(pop_2010_2019,pop_2020_2021,how=\"left\",on=\"County\")\n",
    "pop_combined['County'] = pop_combined['County'].str.strip()\n",
    "pop_combined['County'] = pop_combined['County'].str.upper()\n",
    "pop_combined.tail(20)"
   ]
  },
  {
   "cell_type": "code",
   "execution_count": null,
   "id": "e93000a2",
   "metadata": {},
   "outputs": [],
   "source": [
    "metros = pd.read_excel('../data/raw_data/metro_areas.xlsx',sheet_name='Filtered_States')\n",
    "metros_df = pd.DataFrame(metros)\n",
    "metros_tn = metros_df[metros_df['State Name']=='Tennessee']\n",
    "metros_tn['County'] = metros_tn['County'].str.strip()\n",
    "metros_tn['County'] = metros_tn['County'].str.upper()\n",
    "metros_tn.head()"
   ]
  },
  {
   "cell_type": "code",
   "execution_count": null,
   "id": "31737bfa",
   "metadata": {},
   "outputs": [],
   "source": [
    "file ='../data/raw_data/TN/TN_2010_2022.pdf'"
   ]
  },
  {
   "cell_type": "code",
   "execution_count": null,
   "id": "b5bcbb84",
   "metadata": {},
   "outputs": [],
   "source": [
    "pdf = pdfplumber.open(file)\n",
    "table = pdf.pages[43].extract_table()\n",
    "text = pdf.pages[43].extract_text()\n",
    "table = table [1:]\n",
    "last_ele = table[-1]\n",
    "for ele in last_ele:\n",
    "     match = re.search(\"(Total\\s\\s\\d{4})\",ele)\n",
    "     boolean = bool(match)\n",
    "     year = re.findall(\"(?<=Total\\s\\s)\\d{4}\",ele)\n",
    "     if boolean ==True:\n",
    "        print(year,\"Found!\")"
   ]
  },
  {
   "cell_type": "markdown",
   "id": "4769ca1d",
   "metadata": {},
   "source": [
    "### Extracting data for years 2013 thru 2020 and combining with pop along with Metropolitans and Micropolitans"
   ]
  },
  {
   "cell_type": "code",
   "execution_count": null,
   "id": "00d7bcd8",
   "metadata": {},
   "outputs": [],
   "source": [
    "pages = list(range(12,44))\n",
    "tn_df = pd.DataFrame(columns=['County','fatalities','injuries','PDO','total_crashes'])\n",
    "pdf = pdfplumber.open(file)\n",
    "for page in pages:            \n",
    "    tbl = pdf.pages[page].extract_table()\n",
    "    last_ele = tbl[-1]\n",
    "    df = pd.DataFrame(tbl[1::],columns=['County','fatalities','injuries','PDO','total_crashes'])\n",
    "    tn_df = tn_df.append(df)    \n",
    "    for ele in last_ele:\n",
    "        match = re.search(\"(Total\\s\\s\\d{4})\",ele)\n",
    "        boolean = bool(match)\n",
    "        year = re.findall(\"(?<=Total\\s\\s)\\d{4}\",ele)\n",
    "        for var in year:\n",
    "             name = var         \n",
    "        if boolean == True:\n",
    "            name = int(name)\n",
    "            tn_df = tn_df.drop(['PDO'],axis=1)\n",
    "            tn_df = tn_df.iloc[:-1,:]\n",
    "            tn_df['County'] = tn_df['County'].str.strip()\n",
    "            tn_df['County'] = tn_df['County'].str.upper()\n",
    "            df_combined_tn = pd.merge(tn_df,pop_combined[['County', name]],on=\"County\",how='left')\n",
    "            df_combined_tn_new = pd.merge(df_combined_tn,metros_tn[['CBSA Title','Metropolitan/Micropolitan Statistical Area','County']],on=\"County\",how='left')\n",
    "            df_combined_tn_new.rename(columns = {name:'population'}, inplace = True)\n",
    "            df_combined_tn_new.insert(0,'Year',name)\n",
    "            df_combined_tn_new.to_excel('../data/cleaned_data/%s_TN.xlsx' % name, engine='xlsxwriter',index=False)\n",
    "            tn_df = pd.DataFrame(columns=['County','fatalities','injuries','PDO','total_crashes'])\n",
    "        else :\n",
    "            continue"
   ]
  },
  {
   "cell_type": "markdown",
   "id": "80a65e80",
   "metadata": {},
   "source": [
    "### Combining all the files into a master file"
   ]
  },
  {
   "cell_type": "code",
   "execution_count": null,
   "id": "bf908dca",
   "metadata": {},
   "outputs": [],
   "source": [
    "data_file_folder ='../data/cleaned_data/'\n",
    "df = []\n",
    "for file in os.listdir(data_file_folder):\n",
    "        if file.endswith('_TN.xlsx'):             \n",
    "             df.append(pd.read_excel(os.path.join(data_file_folder,file),sheet_name='Sheet1'))\n",
    "df_tn_master = pd.concat(df, axis = 0)"
   ]
  },
  {
   "cell_type": "code",
   "execution_count": null,
   "id": "66ce51b9",
   "metadata": {},
   "outputs": [],
   "source": [
    "df_tn_master.isna().sum()"
   ]
  },
  {
   "cell_type": "code",
   "execution_count": null,
   "id": "07d18c33",
   "metadata": {},
   "outputs": [],
   "source": [
    "df_tn_master.insert(1,'State','Tennessee') \n",
    "df_tn_master.head(10)"
   ]
  },
  {
   "cell_type": "code",
   "execution_count": null,
   "id": "e63dc444",
   "metadata": {},
   "outputs": [],
   "source": [
    "df_tn_master.tail(10)"
   ]
  },
  {
   "cell_type": "code",
   "execution_count": null,
   "id": "ba935942",
   "metadata": {},
   "outputs": [],
   "source": [
    "df_tn_master.to_excel('../data/TN.xlsx', engine='xlsxwriter',index=False)"
   ]
  },
  {
   "cell_type": "code",
   "execution_count": null,
   "id": "1e9c48ca",
   "metadata": {},
   "outputs": [],
   "source": [
    "df_tn_master_pop_gr = df_tn_master.groupby([\"CBSA Title\",\"Year\",\"Metropolitan/Micropolitan Statistical Area\"])[\"population\"].sum().reset_index()\n",
    "df_tn_master_pop_gr"
   ]
  },
  {
   "cell_type": "code",
   "execution_count": null,
   "id": "1e36f4cf",
   "metadata": {},
   "outputs": [],
   "source": [
    "df_tn_master_pop_gr = pd.pivot(df_tn_master_pop_gr,index=[\"CBSA Title\",\"Metropolitan/Micropolitan Statistical Area\"],columns=[\"Year\"])\n",
    "df_tn_master_pop_gr"
   ]
  },
  {
   "cell_type": "code",
   "execution_count": null,
   "id": "3bb17218",
   "metadata": {},
   "outputs": [],
   "source": [
    "df_tn_master_pop_analysis = df_tn_master_pop_gr.pct_change(axis='columns')\n",
    "df_tn_master_pop_analysis"
   ]
  },
  {
   "cell_type": "code",
   "execution_count": null,
   "id": "9f62807e",
   "metadata": {},
   "outputs": [],
   "source": []
  }
 ],
 "metadata": {
  "kernelspec": {
   "display_name": "Python 3 (ipykernel)",
   "language": "python",
   "name": "python3"
  },
  "language_info": {
   "codemirror_mode": {
    "name": "ipython",
    "version": 3
   },
   "file_extension": ".py",
   "mimetype": "text/x-python",
   "name": "python",
   "nbconvert_exporter": "python",
   "pygments_lexer": "ipython3",
   "version": "3.9.7"
  }
 },
 "nbformat": 4,
 "nbformat_minor": 5
}
