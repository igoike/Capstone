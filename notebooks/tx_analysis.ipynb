{
 "cells": [
  {
   "cell_type": "code",
   "execution_count": null,
   "id": "f89d4aba",
   "metadata": {},
   "outputs": [],
   "source": [
    "pip install pdfplumber"
   ]
  },
  {
   "cell_type": "code",
   "execution_count": null,
   "id": "032d66f3",
   "metadata": {},
   "outputs": [],
   "source": [
    "import pandas as pd\n",
    "import re\n",
    "from collections import namedtuple\n",
    "import pdfplumber\n",
    "import os \n",
    "pd.set_option('display.max_rows', 500)\n",
    "pd.set_option('display.max_columns', 500)\n",
    "pd.set_option('display.width', 1000)\n",
    "import numpy as np"
   ]
  },
  {
   "cell_type": "markdown",
   "id": "f4c2f055",
   "metadata": {},
   "source": [
    "### Testing table extraction for the 1st page of the file"
   ]
  },
  {
   "cell_type": "code",
   "execution_count": null,
   "id": "6b088a15",
   "metadata": {},
   "outputs": [],
   "source": [
    "file ='../data/raw_data/TX/TX_2013.pdf'"
   ]
  },
  {
   "cell_type": "code",
   "execution_count": null,
   "id": "a69f3f09",
   "metadata": {},
   "outputs": [],
   "source": [
    "pdf = pdfplumber.open(file)\n",
    "table=pdf.pages[0].extract_table()\n",
    "df_test = pd.DataFrame(table[1::],columns=table[0])"
   ]
  },
  {
   "cell_type": "code",
   "execution_count": null,
   "id": "04b2471f",
   "metadata": {},
   "outputs": [],
   "source": [
    "df_test.head()"
   ]
  },
  {
   "cell_type": "markdown",
   "id": "8fdf2ece",
   "metadata": {},
   "source": [
    "### Extracting all the tables from a PDF file"
   ]
  },
  {
   "cell_type": "code",
   "execution_count": null,
   "id": "d1b77b9b",
   "metadata": {},
   "outputs": [],
   "source": [
    "#Create df from table on first page to act as the first df:\n",
    "pdf = pdfplumber.open(file)\n",
    "pages = pdf.pages\n",
    "tbl = pages[0].extract_table()\n",
    "original_df = pd.DataFrame(tbl[1::],columns=['County','fatal_crashes','fatalities','suspected_serious_crashes','suspected_serious_injuries','non_incapacitating_crashes','non_incapacitating_injuries','possible_injury_crashes','possible_injuries','non_injury_crashes',\n",
    "'non_injuries','unknown_severity_crashes','unknown_injuries','total_crashes'])\n",
    "\n",
    "#Append data from remaining tables/pages:\n",
    "with pdfplumber.open(file) as pdf:\n",
    "    pages = pdf.pages\n",
    "    for i,pg in enumerate(pages):\n",
    "        df = pd.DataFrame(tbl[1::]) \n",
    "        tbl = pages[i].extract_table()\n",
    "        df = pd.DataFrame(tbl[1::],columns=['County','fatal_crashes','fatalities','suspected_serious_crashes','suspected_serious_injuries','non_incapacitating_crashes','non_incapacitating_injuries','possible_injury_crashes','possible_injuries','non_injury_crashes',\n",
    "'non_injuries','unknown_severity_crashes','unknown_injuries','total_crashes']) \n",
    "        original_df=original_df.merge(df, how='outer')      "
   ]
  },
  {
   "cell_type": "code",
   "execution_count": null,
   "id": "df892ba8",
   "metadata": {},
   "outputs": [],
   "source": [
    "original_df.insert(0,'Year',2013)\n",
    "original_df"
   ]
  },
  {
   "cell_type": "markdown",
   "id": "592b5b01",
   "metadata": {},
   "source": [
    "### Importing poppulation data and merging both files"
   ]
  },
  {
   "cell_type": "code",
   "execution_count": null,
   "id": "b6d36b58",
   "metadata": {},
   "outputs": [],
   "source": [
    "pop_2010_2019 = pd.read_excel('../data/raw_data/TX/pop_est_2010_2019_tx.xlsx',sheet_name='Sheet1')\n",
    "pop_2010_2019 = pd.DataFrame(pop_2010_2019)\n",
    "pop_2010_2019 = pop_2010_2019.drop(['Estimates Base',2010,2011,2012],axis=1)\n",
    "pop_2010_2019.head()"
   ]
  },
  {
   "cell_type": "code",
   "execution_count": null,
   "id": "978432c6",
   "metadata": {},
   "outputs": [],
   "source": [
    "pop_2020_2021 = pd.read_excel('../data/raw_data/TX/pop_est_2020_2021_tx.xlsx',sheet_name='Sheet1')\n",
    "pop_2020_2021 = pd.DataFrame(pop_2020_2021)\n",
    "pop_2020_2021 = pop_2020_2021.drop('Estimate Base',axis=1)\n",
    "pop_2020_2021.head()"
   ]
  },
  {
   "cell_type": "code",
   "execution_count": null,
   "id": "006e426e",
   "metadata": {},
   "outputs": [],
   "source": [
    "pop_combined = pd.merge(pop_2010_2019,pop_2020_2021,how=\"left\",on=\"County\")\n",
    "pop_combined['County'] = pop_combined['County'].str.strip()\n",
    "pop_combined['County'] = pop_combined['County'].str.upper()\n",
    "pop_combined.head()"
   ]
  },
  {
   "cell_type": "markdown",
   "id": "03dbee14",
   "metadata": {},
   "source": [
    "### Merging pop df and carsh data for speciffic year"
   ]
  },
  {
   "cell_type": "code",
   "execution_count": null,
   "id": "94e41221",
   "metadata": {},
   "outputs": [],
   "source": [
    "var = 2013"
   ]
  },
  {
   "cell_type": "code",
   "execution_count": null,
   "id": "6fcb0086",
   "metadata": {},
   "outputs": [],
   "source": [
    "pdf = pdfplumber.open(file)\n",
    "pages = pdf.pages\n",
    "tbl = pages[0].extract_table()\n",
    "original_df = pd.DataFrame(tbl[1::],columns=['County','fatal_crashes','fatalities','suspected_serious_crashes','suspected_serious_injuries','non_incapacitating_crashes','non_incapacitating_injuries','possible_injury_crashes','possible_injuries','non_injury_crashes',\n",
    "'non_injuries','unknown_severity_crashes','unknown_injuries','total_crashes'])\n",
    "with pdfplumber.open(file) as pdf:\n",
    "    pages = pdf.pages\n",
    "    for i,pg in enumerate(pages):\n",
    "        df = pd.DataFrame(tbl[1::]) \n",
    "        tbl = pages[i].extract_table()\n",
    "        df = pd.DataFrame(tbl[1::],columns=['County','fatal_crashes','fatalities','suspected_serious_crashes','suspected_serious_injuries','non_incapacitating_crashes','non_incapacitating_injuries','possible_injury_crashes','possible_injuries','non_injury_crashes',\n",
    "'non_injuries','unknown_severity_crashes','unknown_injuries','total_crashes']) \n",
    "        original_df=original_df.merge(df, how='outer')      "
   ]
  },
  {
   "cell_type": "code",
   "execution_count": null,
   "id": "a5dc9a9c",
   "metadata": {},
   "outputs": [],
   "source": [
    "original_df['suspected_serious_injuries'] =original_df['suspected_serious_injuries'].str.replace(',', '').astype(float)\n",
    "original_df['possible_injuries'] =original_df['possible_injuries'].str.replace(',', '').astype(float)\n",
    "original_df['injuries'] = original_df['suspected_serious_injuries'] + original_df['possible_injuries']\n",
    "df_combined = pd.merge(original_df,pop_combined[['County', var]],on=\"County\",how='left')\n",
    "df_combined=df_combined.drop(['fatal_crashes','suspected_serious_crashes','suspected_serious_injuries','non_incapacitating_crashes','non_incapacitating_injuries','possible_injury_crashes','non_injury_crashes',\n",
    "'non_injuries','unknown_severity_crashes','unknown_injuries','possible_injuries'], axis=1)\n",
    "df_combined.head()"
   ]
  },
  {
   "cell_type": "code",
   "execution_count": null,
   "id": "28a114e6",
   "metadata": {},
   "outputs": [],
   "source": [
    "df_combined.info()"
   ]
  },
  {
   "cell_type": "markdown",
   "id": "4e038deb",
   "metadata": {},
   "source": [
    "### Adding Metropolitans and Micropolitans"
   ]
  },
  {
   "cell_type": "code",
   "execution_count": null,
   "id": "a41a05bd",
   "metadata": {},
   "outputs": [],
   "source": [
    "metros = pd.read_excel('../data/raw_data/metro_areas.xlsx',sheet_name='Filtered_States')\n",
    "metros_df = pd.DataFrame(metros)\n",
    "metros_tx = metros_df[metros_df['State Name']=='Texas']\n",
    "metros_tx['County'] = metros_tx['County'].str.strip()\n",
    "metros_tx['County'] = metros_tx['County'].str.upper()\n",
    "metros_tx.head()"
   ]
  },
  {
   "cell_type": "code",
   "execution_count": null,
   "id": "a447ad42",
   "metadata": {},
   "outputs": [],
   "source": [
    "df_combined_new = pd.merge(df_combined,metros_tx[['CBSA Title','Metropolitan/Micropolitan Statistical Area','County']],on=\"County\",how='left')\n",
    "df_combined_new.head(20)"
   ]
  },
  {
   "cell_type": "markdown",
   "id": "23d56caa",
   "metadata": {},
   "source": [
    "### Adding everything together to create combined reports by year"
   ]
  },
  {
   "cell_type": "code",
   "execution_count": null,
   "id": "8f7a7fbf",
   "metadata": {},
   "outputs": [],
   "source": [
    "for filename in os.listdir(\"../data/raw_data/TX/\"):\n",
    "    if filename.endswith(\".pdf\"):\n",
    "       year = re.findall(r'\\d{4}',filename)\n",
    "       for var in year:\n",
    "           name = var       \n",
    "       pdf = pdfplumber.open(os.path.join(\"C:/Users/iulia/Documents/NSS/projects/capstone/data/raw_data/TX/\", filename))\n",
    "       tx_df = pd.DataFrame(columns=['County','fatal_crashes','fatalities','suspected_serious_crashes','suspected_serious_injuries','non_incapacitating_crashes','non_incapacitating_injuries','possible_injury_crashes','possible_injuries','non_injury_crashes',\n",
    "  'non_injuries','unknown_severity_crashes','unknown_injuries','total_crashes'])\n",
    "       pages = pdf.pages\n",
    "       for i,pg in enumerate(pages): \n",
    "        tbl = pages[i].extract_table()\n",
    "        df = pd.DataFrame(tbl[1::],columns=['County','fatal_crashes','fatalities','suspected_serious_crashes','suspected_serious_injuries','non_incapacitating_crashes','non_incapacitating_injuries','possible_injury_crashes','possible_injuries','non_injury_crashes',\n",
    "'non_injuries','unknown_severity_crashes','unknown_injuries','total_crashes'])\n",
    "        tx_df = tx_df.append(df) \n",
    "        if i== 9:\n",
    "            name = int(name)\n",
    "            tx_df['suspected_serious_injuries'] = tx_df['suspected_serious_injuries'].str.replace(',', '').astype(float)\n",
    "            tx_df['possible_injuries'] = tx_df['possible_injuries'].str.replace(',', '').astype(float)\n",
    "            tx_df['non_incapacitating_injuries'] = tx_df['non_incapacitating_injuries'].str.replace(',', '').astype(float)\n",
    "            tx_df['injuries'] = tx_df['suspected_serious_injuries'] + tx_df['possible_injuries'] + tx_df['non_incapacitating_injuries']\n",
    "            tx_df = tx_df.drop(['fatal_crashes','suspected_serious_crashes','suspected_serious_injuries','non_incapacitating_crashes','possible_injury_crashes','non_injury_crashes','non_injuries','unknown_severity_crashes','unknown_injuries','possible_injuries'], axis=1)                    \n",
    "            tx_df = tx_df[['County','fatalities','injuries','total_crashes']]\n",
    "            tx_df['County'] = tx_df['County'].str.strip()\n",
    "            tx_df['County'] = tx_df['County'].str.upper()\n",
    "            df_combined_tx = pd.merge(tx_df,pop_combined[['County', name]],on=\"County\",how='left') \n",
    "            df_combined_tx_new = pd.merge(df_combined_tx,metros_tx[['CBSA Title','Metropolitan/Micropolitan Statistical Area','County']],on=\"County\",how='left')\n",
    "            df_combined_tx_new.rename(columns = {name:'population'}, inplace = True)\n",
    "            df_combined_tx_new.drop(index=df_combined_tx_new.index[-1],axis=0,inplace=True)\n",
    "            df_combined_tx_new.insert(0,'Year',name)\n",
    "            df_combined_tx_new.to_excel('../data/cleaned_data/%s_TX.xlsx' % name, engine='xlsxwriter',index=False)\n",
    "        else:\n",
    "            continue"
   ]
  },
  {
   "cell_type": "markdown",
   "id": "e587dd6d",
   "metadata": {},
   "source": [
    "### Combining all the files into a master file"
   ]
  },
  {
   "cell_type": "code",
   "execution_count": null,
   "id": "c45f800a",
   "metadata": {},
   "outputs": [],
   "source": [
    "data_file_folder ='../data/cleaned_data/'\n",
    "df = []\n",
    "for file in os.listdir(data_file_folder):\n",
    "        if file.endswith('_TX.xlsx'):             \n",
    "             df.append(pd.read_excel(os.path.join(data_file_folder,file),sheet_name='Sheet1'))\n",
    "df_tx_master = pd.concat(df, axis = 0)"
   ]
  },
  {
   "cell_type": "code",
   "execution_count": null,
   "id": "433b1033",
   "metadata": {},
   "outputs": [],
   "source": [
    "df_tx_master.isna().sum()"
   ]
  },
  {
   "cell_type": "code",
   "execution_count": null,
   "id": "4f0a7040",
   "metadata": {},
   "outputs": [],
   "source": [
    "df_tx_master.insert(1,'State','Texas') \n",
    "df_tx_master.head(10)"
   ]
  },
  {
   "cell_type": "code",
   "execution_count": null,
   "id": "1db02124",
   "metadata": {},
   "outputs": [],
   "source": [
    "df_tx_master.tail(10)"
   ]
  },
  {
   "cell_type": "code",
   "execution_count": null,
   "id": "c2380046",
   "metadata": {},
   "outputs": [],
   "source": [
    "df_tx_master.to_excel('../data/TX.xlsx', engine='xlsxwriter',index=False)"
   ]
  }
 ],
 "metadata": {
  "kernelspec": {
   "display_name": "Python 3 (ipykernel)",
   "language": "python",
   "name": "python3"
  },
  "language_info": {
   "codemirror_mode": {
    "name": "ipython",
    "version": 3
   },
   "file_extension": ".py",
   "mimetype": "text/x-python",
   "name": "python",
   "nbconvert_exporter": "python",
   "pygments_lexer": "ipython3",
   "version": "3.9.7"
  }
 },
 "nbformat": 4,
 "nbformat_minor": 5
}
