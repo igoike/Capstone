{
 "cells": [
  {
   "cell_type": "code",
   "execution_count": null,
   "id": "52840b20",
   "metadata": {},
   "outputs": [],
   "source": [
    "import pandas as pd\n",
    "import re\n",
    "from collections import namedtuple\n",
    "import pdfplumber\n",
    "import os \n",
    "pd.set_option('display.max_rows', 500)\n",
    "pd.set_option('display.max_columns', 500)\n",
    "pd.set_option('display.width', 1000)\n",
    "import numpy as np"
   ]
  },
  {
   "cell_type": "markdown",
   "id": "7f6a577e",
   "metadata": {},
   "source": [
    "### 1. Importing and  merging pop files\n",
    "### 2. Adding Metropolitans and Micropolitans"
   ]
  },
  {
   "cell_type": "code",
   "execution_count": null,
   "id": "6f9547ce",
   "metadata": {},
   "outputs": [],
   "source": [
    "pop_2010_2019 = pd.read_excel('../data/raw_data/NC/pop_est_2010-2019_nc.xlsx',sheet_name='Sheet1')\n",
    "pop_2010_2019 = pd.DataFrame(pop_2010_2019)\n",
    "pop_2010_2019 = pop_2010_2019.drop(['Census','Estimates Base',2010,2011,2012],axis=1)\n",
    "pop_2010_2019.head()"
   ]
  },
  {
   "cell_type": "code",
   "execution_count": null,
   "id": "2db3d4d3",
   "metadata": {},
   "outputs": [],
   "source": [
    "pop_2020_2021 = pd.read_excel('../data/raw_data/NC/pop_est_2020-2021_nc.xlsx',sheet_name='Sheet1')\n",
    "pop_2020_2021 = pd.DataFrame(pop_2020_2021)\n",
    "pop_2020_2021 = pop_2020_2021.drop('Estimates Base',axis=1)\n",
    "pop_2020_2021.head()"
   ]
  },
  {
   "cell_type": "code",
   "execution_count": null,
   "id": "b0c5d4a9",
   "metadata": {},
   "outputs": [],
   "source": [
    "pop_combined = pd.merge(pop_2010_2019,pop_2020_2021,how=\"left\",on=\"County\")\n",
    "pop_combined['County'] = pop_combined['County'].str.strip()\n",
    "pop_combined['County'] = pop_combined['County'].str.upper()\n",
    "pop_combined.head()"
   ]
  },
  {
   "cell_type": "code",
   "execution_count": null,
   "id": "752a7f17",
   "metadata": {},
   "outputs": [],
   "source": [
    "pop_combined.info()"
   ]
  },
  {
   "cell_type": "code",
   "execution_count": null,
   "id": "bc02fa6f",
   "metadata": {},
   "outputs": [],
   "source": [
    "metros = pd.read_excel('../data/raw_data/metro_areas.xlsx',sheet_name='Filtered_States')\n",
    "metros_df = pd.DataFrame(metros)\n",
    "metros_nc = metros_df[metros_df['State Name']=='North Carolina']\n",
    "metros_nc['County'] = metros_nc['County'].str.strip()\n",
    "metros_nc['County'] = metros_nc['County'].str.upper()\n",
    "metros_nc.head()"
   ]
  },
  {
   "cell_type": "markdown",
   "id": "36291812",
   "metadata": {},
   "source": [
    "### Extracting data for years 2013 thru 2016 and combining with pop along with Metropolitans and Micropolitans"
   ]
  },
  {
   "cell_type": "code",
   "execution_count": null,
   "id": "e542bac4",
   "metadata": {},
   "outputs": [],
   "source": [
    "file_2013_2016 ='../data/raw_data/NC/NC_2012_2016.pdf'"
   ]
  },
  {
   "cell_type": "code",
   "execution_count": null,
   "id": "a1d94255",
   "metadata": {},
   "outputs": [],
   "source": [
    "pdf = pdfplumber.open(file_2013_2016)\n",
    "txt = pdf.pages[44].extract_text()\n",
    "txt = txt.split(\"\\n\")\n",
    "new_list = txt[0:7]\n",
    "new_list"
   ]
  },
  {
   "cell_type": "code",
   "execution_count": null,
   "id": "b095df41",
   "metadata": {},
   "outputs": [],
   "source": [
    "county = new_list[0]\n",
    "county = county.replace(\"County\",\"\")\n",
    "county = county.strip()\n",
    "fatalities = new_list[3].split(\" \")\n",
    "del fatalities[0:3]\n",
    "del fatalities[-2:]\n",
    "fatalities = list(np.int_(fatalities))\n",
    "total = new_list[6].replace(\",\",\"\")\n",
    "total = total.split(\" \")\n",
    "del total[0:3]\n",
    "del total[-2:]\n",
    "total = list(np.int_(total))\n",
    "print(county,fatalities,total)    "
   ]
  },
  {
   "cell_type": "code",
   "execution_count": null,
   "id": "9eee0563",
   "metadata": {},
   "outputs": [],
   "source": [
    "my_dic_2013 = {}\n",
    "my_dic_2013['County'] = county\n",
    "my_dic_2013['fatalities'] = fatalities[0]\n",
    "my_dic_2013['injuries'] = total[1]\n",
    "my_dic_2013['total_crashes'] = total[0]\n",
    "print(my_dic_2013) "
   ]
  },
  {
   "cell_type": "code",
   "execution_count": null,
   "id": "05f93438",
   "metadata": {},
   "outputs": [],
   "source": [
    "my_dic_2014 = {}\n",
    "my_dic_2014['County'] = county\n",
    "my_dic_2014['fatalities'] = fatalities[2]\n",
    "my_dic_2014['injuries'] = total[3]\n",
    "my_dic_2014['total_crashes'] = total[2]\n",
    "print(my_dic_2014)"
   ]
  },
  {
   "cell_type": "code",
   "execution_count": null,
   "id": "f58d1f64",
   "metadata": {},
   "outputs": [],
   "source": [
    "my_dic_2015 = {}\n",
    "my_dic_2015['County'] = county\n",
    "my_dic_2015['fatalities'] = fatalities[4]\n",
    "my_dic_2015['injuries'] = total[5]\n",
    "my_dic_2015['total_crashes'] = total[4]\n",
    "print(my_dic_2015)"
   ]
  },
  {
   "cell_type": "code",
   "execution_count": null,
   "id": "6c24bd8f",
   "metadata": {},
   "outputs": [],
   "source": [
    "nc_l_2013 = []\n",
    "nc_l_2014 = []\n",
    "nc_l_2015 = []\n",
    "pages = list(range(42,142))\n",
    "pdf = pdfplumber.open(file_2013_2016)\n",
    "for page in pages:\n",
    "    my_dic_2013 = {}\n",
    "    my_dic_2014 = {}    \n",
    "    my_dic_2015 = {}\n",
    "    txt =pdf.pages[page].extract_text()\n",
    "    txt = txt.split(\"\\n\")\n",
    "    new_list = txt[0:7]\n",
    "    county = new_list[0]\n",
    "    county = county.replace(\"County\",\"\")\n",
    "    county = county.strip()\n",
    "    fatalities = new_list[3].split(\" \")\n",
    "    del fatalities[0:3]\n",
    "    del fatalities[-2:]\n",
    "    fatalities = list(np.int_(fatalities))\n",
    "    total = new_list[6].replace(\",\",\"\")\n",
    "    total = total.split(\" \")\n",
    "    del total[0:3]\n",
    "    del total[-2:]\n",
    "    total = list(np.int_(total))\n",
    "    my_dic_2013['County'] = county\n",
    "    my_dic_2013['fatalities'] = fatalities[1]\n",
    "    my_dic_2013['injuries'] = total[1]\n",
    "    my_dic_2013['total_crashes'] = total[0]\n",
    "    nc_l_2013.append(my_dic_2013)\n",
    "    my_dic_2014['County'] = county\n",
    "    my_dic_2014['fatalities'] = fatalities[3]\n",
    "    my_dic_2014['injuries'] = total[3]\n",
    "    my_dic_2014['total_crashes'] = total[2]\n",
    "    nc_l_2014.append(my_dic_2014)\n",
    "    my_dic_2015['County'] = county\n",
    "    my_dic_2015['fatalities'] = fatalities[4]\n",
    "    my_dic_2015['injuries'] = total[5]\n",
    "    my_dic_2015['total_crashes'] = total[4]    \n",
    "    nc_l_2015.append(my_dic_2015)  \n",
    "nc_df_2013 = pd.DataFrame(nc_l_2013)\n",
    "nc_df_2014 = pd.DataFrame(nc_l_2014)\n",
    "nc_df_2015 = pd.DataFrame(nc_l_2015)\n",
    "nc_df_2013 ['County'] = nc_df_2013 ['County'].str.strip()\n",
    "nc_df_2013 ['County'] = nc_df_2013 ['County'].str.upper()\n",
    "nc_df_2014 ['County'] = nc_df_2014 ['County'].str.strip()\n",
    "nc_df_2014 ['County'] = nc_df_2014 ['County'].str.upper()\n",
    "nc_df_2015 ['County'] = nc_df_2015 ['County'].str.strip()\n",
    "nc_df_2015 ['County'] = nc_df_2015 ['County'].str.upper()\n",
    "df_pop_nc13 = pd.merge(nc_df_2013,pop_combined[['County', 2013]],on=\"County\",how='left')\n",
    "df_pop_nc14 = pd.merge(nc_df_2014,pop_combined[['County', 2014]],on=\"County\",how='left')\n",
    "df_pop_nc15 = pd.merge(nc_df_2015,pop_combined[['County', 2015]],on=\"County\",how='left')\n",
    "df_comb_nc13 = pd.merge(df_pop_nc13,metros_nc[['CBSA Title','Metropolitan/Micropolitan Statistical Area','County']],on=\"County\",how='left')\n",
    "df_comb_nc14 = pd.merge(df_pop_nc14,metros_nc[['CBSA Title','Metropolitan/Micropolitan Statistical Area','County']],on=\"County\",how='left')\n",
    "df_comb_nc15 = pd.merge(df_pop_nc15,metros_nc[['CBSA Title','Metropolitan/Micropolitan Statistical Area','County']],on=\"County\",how='left')\n",
    "df_comb_nc13.rename(columns = {2013:'population'}, inplace = True)\n",
    "df_comb_nc13.insert(0,'Year',2013)\n",
    "df_comb_nc14.rename(columns = {2014:'population'}, inplace = True)\n",
    "df_comb_nc14.insert(0,'Year',2014)\n",
    "df_comb_nc15.rename(columns = {2015:'population'}, inplace = True)\n",
    "df_comb_nc15.insert(0,'Year',2015)\n",
    "df_comb_nc13.to_excel('../data/cleaned_data/2013_NC.xlsx', engine='xlsxwriter',index=False)\n",
    "df_comb_nc14.to_excel('../data/cleaned_data/2014_NC.xlsx', engine='xlsxwriter',index=False)\n",
    "df_comb_nc15.to_excel('../data/cleaned_data/2015_NC.xlsx', engine='xlsxwriter',index=False)"
   ]
  },
  {
   "cell_type": "markdown",
   "id": "ec067736",
   "metadata": {},
   "source": [
    "### Extracting data for years 2017 thru 2020 and combining with pop along with Metropolitans and Micropolitans"
   ]
  },
  {
   "cell_type": "code",
   "execution_count": null,
   "id": "58d98ccd",
   "metadata": {},
   "outputs": [],
   "source": [
    "file_2017_2020 ='../data/raw_data/NC/NC_2016_2020.pdf'"
   ]
  },
  {
   "cell_type": "code",
   "execution_count": null,
   "id": "9462f02b",
   "metadata": {},
   "outputs": [],
   "source": [
    "pdf = pdfplumber.open(file_2017_2020)\n",
    "txt = pdf.pages[43].extract_text()\n",
    "txt = txt.split(\"\\n\")\n",
    "new_list = txt[0:7]\n",
    "new_list"
   ]
  },
  {
   "cell_type": "code",
   "execution_count": null,
   "id": "c24060b4",
   "metadata": {},
   "outputs": [],
   "source": [
    "county = new_list[0]\n",
    "county = county.replace(\"County\",\"\")\n",
    "county = county.strip()\n",
    "fatalities = new_list[3].split(\" \")\n",
    "del fatalities[0]\n",
    "del fatalities[-2:]\n",
    "total = new_list[6].split(\" \")\n",
    "del total[0]\n",
    "del total[-2:]\n",
    "print(county,fatalities,total)"
   ]
  },
  {
   "cell_type": "code",
   "execution_count": null,
   "id": "fbea767b",
   "metadata": {},
   "outputs": [],
   "source": [
    "my_dic_2016 = {}\n",
    "my_dic_2016['County'] = county\n",
    "my_dic_2016['fatalities'] = fatalities[0]\n",
    "my_dic_2016['injuries'] = total[1]\n",
    "my_dic_2016['total_crashes'] = total[0]\n",
    "print(my_dic_2016)"
   ]
  },
  {
   "cell_type": "code",
   "execution_count": null,
   "id": "efc19ac3",
   "metadata": {},
   "outputs": [],
   "source": [
    "my_dic_2017 = {}\n",
    "my_dic_2017['County'] = county\n",
    "my_dic_2017['fatalities'] = fatalities[2]\n",
    "my_dic_2017['injuries'] = total[3]\n",
    "my_dic_2017['total_crashes'] = total[2]\n",
    "print(my_dic_2017)"
   ]
  },
  {
   "cell_type": "code",
   "execution_count": null,
   "id": "b65c1a86",
   "metadata": {},
   "outputs": [],
   "source": [
    "my_dic_2018 ={}\n",
    "my_dic_2018['County'] = county\n",
    "my_dic_2018['fatalities'] = fatalities[4]\n",
    "my_dic_2018['injuries'] = total[5]\n",
    "my_dic_2018['total_crashes'] = total[4]\n",
    "print(my_dic_2018)"
   ]
  },
  {
   "cell_type": "code",
   "execution_count": null,
   "id": "6807b6d1",
   "metadata": {},
   "outputs": [],
   "source": [
    "my_dic_2019 ={}\n",
    "my_dic_2019['County'] = county\n",
    "my_dic_2019['fatalities'] = fatalities[6]\n",
    "my_dic_2019['injuries'] = total[7]\n",
    "my_dic_2019['total_crashes'] = total[6]\n",
    "print(my_dic_2019)"
   ]
  },
  {
   "cell_type": "code",
   "execution_count": null,
   "id": "e4de294b",
   "metadata": {},
   "outputs": [],
   "source": [
    "my_dic_2020 ={}\n",
    "my_dic_2020['County'] = county\n",
    "my_dic_2020['fatalities'] = fatalities[8]\n",
    "my_dic_2020['injuries'] = total[9]\n",
    "my_dic_2020['total_crashes'] = total[8]\n",
    "print(my_dic_2020)"
   ]
  },
  {
   "cell_type": "code",
   "execution_count": null,
   "id": "ce483193",
   "metadata": {},
   "outputs": [],
   "source": [
    "nc_l_2016 = []\n",
    "nc_l_2017 = []\n",
    "nc_l_2018 = []\n",
    "nc_l_2019 = []\n",
    "nc_l_2020 = []\n",
    "pages = list(range(42,142))\n",
    "pdf = pdfplumber.open(file_2017_2020)\n",
    "for page in pages:\n",
    "    my_dic_2016 = {}\n",
    "    my_dic_2017 = {}\n",
    "    my_dic_2018 = {}\n",
    "    my_dic_2019 = {}\n",
    "    my_dic_2020 = {}\n",
    "    txt =pdf.pages[page].extract_text()\n",
    "    txt = txt.split(\"\\n\")\n",
    "    new_list = txt[0:7]\n",
    "    county = new_list[0]\n",
    "    county = county.replace(\"County\",\"\")\n",
    "    county = county.strip()\n",
    "    fatalities = new_list[3].split(\" \")\n",
    "    del fatalities[0]\n",
    "    del fatalities[-2:]\n",
    "    total = new_list[6].split(\" \")\n",
    "    del total[0]\n",
    "    del total[-2:]\n",
    "    my_dic_2016['County'] = county\n",
    "    my_dic_2016['fatalities'] = fatalities[0]\n",
    "    my_dic_2016['injuries'] = total[1]\n",
    "    my_dic_2016['total_crashes'] = total[0]\n",
    "    nc_l_2016.append(my_dic_2016)\n",
    "    my_dic_2017['County'] = county\n",
    "    my_dic_2017['fatalities'] = fatalities[2]\n",
    "    my_dic_2017['injuries'] = total[3]\n",
    "    my_dic_2017['total_crashes'] = total[2]\n",
    "    nc_l_2017.append(my_dic_2017)\n",
    "    my_dic_2018['County'] = county\n",
    "    my_dic_2018['fatalities'] = fatalities[4]\n",
    "    my_dic_2018['injuries'] = total[5]\n",
    "    my_dic_2018['total_crashes'] = total[4]\n",
    "    nc_l_2018.append(my_dic_2018)\n",
    "    my_dic_2019['County'] = county\n",
    "    my_dic_2019['fatalities'] = fatalities[6]\n",
    "    my_dic_2019['injuries'] = total[7]\n",
    "    my_dic_2019['total_crashes'] = total[6]\n",
    "    nc_l_2019.append(my_dic_2019)\n",
    "    my_dic_2020['County'] = county\n",
    "    my_dic_2020['fatalities'] = fatalities[8]\n",
    "    my_dic_2020['injuries'] = total[9]\n",
    "    my_dic_2020['total_crashes'] = total[8]\n",
    "    nc_l_2020.append(my_dic_2020)\n",
    "nc_df_2016 = pd.DataFrame(nc_l_2016)    \n",
    "nc_df_2017 = pd.DataFrame(nc_l_2017)\n",
    "nc_df_2018 = pd.DataFrame(nc_l_2018)\n",
    "nc_df_2019 = pd.DataFrame(nc_l_2019) \n",
    "nc_df_2020 = pd.DataFrame(nc_l_2020)\n",
    "nc_df_2016 ['County'] = nc_df_2016 ['County'].str.strip()\n",
    "nc_df_2016 ['County'] = nc_df_2016 ['County'].str.upper()\n",
    "nc_df_2017 ['County'] = nc_df_2017 ['County'].str.strip()\n",
    "nc_df_2017 ['County'] = nc_df_2017 ['County'].str.upper()\n",
    "nc_df_2018 ['County'] = nc_df_2018 ['County'].str.strip()\n",
    "nc_df_2018 ['County'] = nc_df_2018 ['County'].str.upper()\n",
    "nc_df_2019 ['County'] = nc_df_2019 ['County'].str.strip()\n",
    "nc_df_2019 ['County'] = nc_df_2019 ['County'].str.upper()\n",
    "nc_df_2020 ['County'] = nc_df_2020 ['County'].str.strip()\n",
    "nc_df_2020 ['County'] = nc_df_2020 ['County'].str.upper()\n",
    "df_pop_nc16 = pd.merge(nc_df_2016,pop_combined[['County', 2016]],on=\"County\",how='left')\n",
    "df_pop_nc17 = pd.merge(nc_df_2017,pop_combined[['County', 2017]],on=\"County\",how='left')\n",
    "df_pop_nc18 = pd.merge(nc_df_2018,pop_combined[['County', 2018]],on=\"County\",how='left')\n",
    "df_pop_nc19 = pd.merge(nc_df_2019,pop_combined[['County', 2019]],on=\"County\",how='left')\n",
    "df_pop_nc20 = pd.merge(nc_df_2020,pop_combined[['County', 2020]],on=\"County\",how='left')\n",
    "df_comb_nc16 = pd.merge(df_pop_nc16,metros_nc[['CBSA Title','Metropolitan/Micropolitan Statistical Area','County']],on=\"County\",how='left')\n",
    "df_comb_nc17 = pd.merge(df_pop_nc17,metros_nc[['CBSA Title','Metropolitan/Micropolitan Statistical Area','County']],on=\"County\",how='left')\n",
    "df_comb_nc18 = pd.merge(df_pop_nc18,metros_nc[['CBSA Title','Metropolitan/Micropolitan Statistical Area','County']],on=\"County\",how='left')\n",
    "df_comb_nc19 = pd.merge(df_pop_nc19,metros_nc[['CBSA Title','Metropolitan/Micropolitan Statistical Area','County']],on=\"County\",how='left')\n",
    "df_comb_nc20 = pd.merge(df_pop_nc20,metros_nc[['CBSA Title','Metropolitan/Micropolitan Statistical Area','County']],on=\"County\",how='left')\n",
    "df_comb_nc16.rename(columns = {2016:'population'}, inplace = True)\n",
    "df_comb_nc16.insert(0,'Year',2016)\n",
    "df_comb_nc17.rename(columns = {2017:'population'}, inplace = True)\n",
    "df_comb_nc17.insert(0,'Year',2017)\n",
    "df_comb_nc18.rename(columns = {2018:'population'}, inplace = True)\n",
    "df_comb_nc18.insert(0,'Year',2018)\n",
    "df_comb_nc19.rename(columns = {2019:'population'}, inplace = True)\n",
    "df_comb_nc19.insert(0,'Year',2019)\n",
    "df_comb_nc20.rename(columns = {2020:'population'}, inplace = True)\n",
    "df_comb_nc20.insert(0,'Year',2020)\n",
    "df_comb_nc16.to_excel('../data/cleaned_data/2016_NC.xlsx', engine='xlsxwriter',index=False)\n",
    "df_comb_nc17.to_excel('../data/cleaned_data/2017_NC.xlsx', engine='xlsxwriter',index=False)\n",
    "df_comb_nc18.to_excel('../data/cleaned_data/2018_NC.xlsx', engine='xlsxwriter',index=False)\n",
    "df_comb_nc19.to_excel('../data/cleaned_data/2019_NC.xlsx', engine='xlsxwriter',index=False)\n",
    "df_comb_nc20.to_excel('../data/cleaned_data/2020_NC.xlsx', engine='xlsxwriter',index=False)"
   ]
  },
  {
   "cell_type": "markdown",
   "id": "cb27b29c",
   "metadata": {},
   "source": [
    "### Combining all the files into a master file"
   ]
  },
  {
   "cell_type": "code",
   "execution_count": null,
   "id": "5656a894",
   "metadata": {},
   "outputs": [],
   "source": [
    "data_file_folder ='../data/cleaned_data/'\n",
    "df = []\n",
    "for file in os.listdir(data_file_folder):\n",
    "        if file.endswith('_NC.xlsx'):             \n",
    "             df.append(pd.read_excel(os.path.join(data_file_folder,file),sheet_name='Sheet1'))\n",
    "df_nc_master = pd.concat(df, axis = 0)"
   ]
  },
  {
   "cell_type": "code",
   "execution_count": null,
   "id": "f6a1c9b0",
   "metadata": {},
   "outputs": [],
   "source": [
    "df_nc_master.isna().sum()"
   ]
  },
  {
   "cell_type": "code",
   "execution_count": null,
   "id": "932c6fcd",
   "metadata": {},
   "outputs": [],
   "source": [
    "df_nc_master.insert(1,'State','North Carolina') \n",
    "df_nc_master.head(10)"
   ]
  },
  {
   "cell_type": "code",
   "execution_count": null,
   "id": "263f27a5",
   "metadata": {},
   "outputs": [],
   "source": [
    "df_nc_master.tail(10)"
   ]
  },
  {
   "cell_type": "code",
   "execution_count": null,
   "id": "5ef98eb5",
   "metadata": {},
   "outputs": [],
   "source": [
    "df_nc_master.to_excel('../data/NC.xlsx', engine='xlsxwriter',index=False)"
   ]
  },
  {
   "cell_type": "code",
   "execution_count": null,
   "id": "bc854817",
   "metadata": {},
   "outputs": [],
   "source": [
    "df_nc_master.info()"
   ]
  },
  {
   "cell_type": "code",
   "execution_count": null,
   "id": "1a094d6d",
   "metadata": {},
   "outputs": [],
   "source": []
  }
 ],
 "metadata": {
  "kernelspec": {
   "display_name": "Python 3 (ipykernel)",
   "language": "python",
   "name": "python3"
  },
  "language_info": {
   "codemirror_mode": {
    "name": "ipython",
    "version": 3
   },
   "file_extension": ".py",
   "mimetype": "text/x-python",
   "name": "python",
   "nbconvert_exporter": "python",
   "pygments_lexer": "ipython3",
   "version": "3.9.7"
  }
 },
 "nbformat": 4,
 "nbformat_minor": 5
}
