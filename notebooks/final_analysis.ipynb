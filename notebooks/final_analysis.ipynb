{
 "cells": [
  {
   "cell_type": "code",
   "execution_count": null,
   "id": "da9a110b",
   "metadata": {},
   "outputs": [],
   "source": [
    "import numpy as np\n",
    "import pandas as pd\n",
    "import re\n",
    "import os \n",
    "import glob\n",
    "pd.set_option('display.max_rows', 500)\n",
    "pd.set_option('display.max_columns', 500)\n",
    "pd.set_option('display.width', 1000)"
   ]
  },
  {
   "cell_type": "code",
   "execution_count": null,
   "id": "cfa6f0b6",
   "metadata": {},
   "outputs": [],
   "source": [
    "data_file_folder ='../data/'\n",
    "df = []\n",
    "for file in os.listdir(data_file_folder):\n",
    "        if file.endswith('.xlsx'):             \n",
    "             df.append(pd.read_excel(os.path.join(data_file_folder,file),sheet_name='Sheet1'))\n",
    "df_master = pd.concat(df, axis = 0)"
   ]
  },
  {
   "cell_type": "code",
   "execution_count": null,
   "id": "718d2c71",
   "metadata": {},
   "outputs": [],
   "source": [
    "df_master.isna().sum()"
   ]
  },
  {
   "cell_type": "code",
   "execution_count": null,
   "id": "16a8aa29",
   "metadata": {},
   "outputs": [],
   "source": [
    "df_master.head(20)"
   ]
  },
  {
   "cell_type": "code",
   "execution_count": null,
   "id": "38dae369",
   "metadata": {},
   "outputs": [],
   "source": [
    "# df_master.to_excel('../data/master_file.xlsx', engine='xlsxwriter',index=False)"
   ]
  },
  {
   "cell_type": "code",
   "execution_count": null,
   "id": "5eee0709",
   "metadata": {},
   "outputs": [],
   "source": [
    "df_master = pd.DataFrame(pd.read_excel('../data/master_file.xlsx'))"
   ]
  },
  {
   "cell_type": "code",
   "execution_count": null,
   "id": "069e8443",
   "metadata": {},
   "outputs": [],
   "source": [
    "df_master.info()"
   ]
  },
  {
   "cell_type": "code",
   "execution_count": null,
   "id": "3cb2d174",
   "metadata": {},
   "outputs": [],
   "source": [
    "df_master_pop_gr = df_master.groupby([\"State\",\"CBSA Title\",\"Year\",\"Metropolitan/Micropolitan Statistical Area\"])[\"population\"].sum().reset_index()\n",
    "df_master_pop_gr.head()"
   ]
  },
  {
   "cell_type": "code",
   "execution_count": null,
   "id": "868105e0",
   "metadata": {},
   "outputs": [],
   "source": [
    "df_master_pop_gr = pd.pivot(df_master_pop_gr,index=[\"State\",\"CBSA Title\",\"Metropolitan/Micropolitan Statistical Area\"],columns=[\"Year\"]).reset_index()"
   ]
  },
  {
   "cell_type": "code",
   "execution_count": null,
   "id": "d60081a4",
   "metadata": {},
   "outputs": [],
   "source": [
    "df_master_pop_gr"
   ]
  },
  {
   "cell_type": "code",
   "execution_count": null,
   "id": "6d095170",
   "metadata": {},
   "outputs": [],
   "source": [
    "df_master_pop_gr.to_excel('../data/population.xlsx', engine='xlsxwriter')"
   ]
  },
  {
   "cell_type": "code",
   "execution_count": null,
   "id": "eea1cf1c",
   "metadata": {},
   "outputs": [],
   "source": [
    "df_master_pop_analysis = df_master_pop_gr.pct_change(axis='columns')\n",
    "df_master_pop_analysis"
   ]
  },
  {
   "cell_type": "code",
   "execution_count": null,
   "id": "a58f52e4",
   "metadata": {},
   "outputs": [],
   "source": [
    "df_master_pop_analysis"
   ]
  },
  {
   "cell_type": "code",
   "execution_count": null,
   "id": "4256d423",
   "metadata": {},
   "outputs": [],
   "source": [
    "df_master_fatal_gr = df_master.groupby([\"CBSA Title\",\"Year\",\"Metropolitan/Micropolitan Statistical Area\",\"State\"]).agg({\"population\":\"sum\",\"fatalities\":\"sum\"}).reset_index()\n",
    "df_master_fatal_gr"
   ]
  },
  {
   "cell_type": "code",
   "execution_count": null,
   "id": "21652c8f",
   "metadata": {},
   "outputs": [],
   "source": [
    "df_master_total_gr = df_master.groupby([\"CBSA Title\",\"Year\",\"Metropolitan/Micropolitan Statistical Area\",\"State\"]).agg({\"population\":\"sum\",\"total_crashes\":\"sum\"}).reset_index()\n",
    "df_master_total_gr "
   ]
  },
  {
   "cell_type": "code",
   "execution_count": null,
   "id": "1cda52a3",
   "metadata": {},
   "outputs": [],
   "source": [
    "df_master_inj_gr = df_master.groupby([\"CBSA Title\",\"Year\",\"Metropolitan/Micropolitan Statistical Area\",\"State\"]).agg({\"population\":\"sum\",\"injuries\":\"sum\"}).reset_index()\n",
    "df_master_inj_gr "
   ]
  },
  {
   "cell_type": "code",
   "execution_count": null,
   "id": "1d901ec5",
   "metadata": {},
   "outputs": [],
   "source": [
    "df_master_fatal_gr['Fatalities per 100,000 population'] = round((df_master_fatal_gr['fatalities'] / df_master_fatal_gr['population']) * 100000)\n",
    "df_master_inj_gr['Injuries per 100,000 population'] = round((df_master_inj_gr['injuries'] / df_master_inj_gr['population']) * 100000)\n",
    "df_master_total_gr['Total Crashes per 100,000 population'] = round((df_master_total_gr['total_crashes'] /df_master_total_gr['population']) * 100000)"
   ]
  },
  {
   "cell_type": "code",
   "execution_count": null,
   "id": "f019c189",
   "metadata": {},
   "outputs": [],
   "source": [
    "df_master_fatal_gr"
   ]
  },
  {
   "cell_type": "code",
   "execution_count": null,
   "id": "209942bf",
   "metadata": {},
   "outputs": [],
   "source": [
    "df_master_inj_gr"
   ]
  },
  {
   "cell_type": "code",
   "execution_count": null,
   "id": "acec3644",
   "metadata": {},
   "outputs": [],
   "source": [
    "df_master_total_gr"
   ]
  },
  {
   "cell_type": "code",
   "execution_count": null,
   "id": "f990c9b4",
   "metadata": {},
   "outputs": [],
   "source": [
    "# df_master_pop_analysis.to_excel('../data/population_change.xlsx', engine='xlsxwriter')\n",
    "# df_master_fatal_gr.to_excel('../data/fatalities_file.xlsx', engine='xlsxwriter',index=False)\n",
    "# df_master_inj_gr.to_excel('../data/injuries_file.xlsx', engine='xlsxwriter',index=False)\n",
    "# df_master_total_gr.to_excel('../data/total_crashes_file.xlsx', engine='xlsxwriter',index=False)"
   ]
  }
 ],
 "metadata": {
  "kernelspec": {
   "display_name": "Python 3 (ipykernel)",
   "language": "python",
   "name": "python3"
  },
  "language_info": {
   "codemirror_mode": {
    "name": "ipython",
    "version": 3
   },
   "file_extension": ".py",
   "mimetype": "text/x-python",
   "name": "python",
   "nbconvert_exporter": "python",
   "pygments_lexer": "ipython3",
   "version": "3.9.7"
  }
 },
 "nbformat": 4,
 "nbformat_minor": 5
}
