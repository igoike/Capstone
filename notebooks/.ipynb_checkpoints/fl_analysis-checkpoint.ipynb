{
 "cells": [
  {
   "cell_type": "code",
   "execution_count": null,
   "id": "59580bb0",
   "metadata": {},
   "outputs": [],
   "source": [
    "import pandas as pd\n",
    "import re\n",
    "from collections import namedtuple\n",
    "import pdfplumber\n",
    "import os\n",
    "import numpy as np\n",
    "from collections import ChainMap\n",
    "import itertools\n",
    "from collections import defaultdict\n",
    "from operator import methodcaller\n",
    "from itertools import chain\n",
    "pd.set_option('display.max_rows', 500)\n",
    "pd.set_option('display.max_columns', 500)\n",
    "pd.set_option('display.width', 1000)"
   ]
  },
  {
   "cell_type": "markdown",
   "id": "4e69db5f",
   "metadata": {},
   "source": [
    "### 1. Importing and  merging pop files\n",
    "### 2. Adding Metropolitans and Micropolitans"
   ]
  },
  {
   "cell_type": "code",
   "execution_count": null,
   "id": "75b6d428",
   "metadata": {},
   "outputs": [],
   "source": [
    "pop_2010_2019 = pd.read_excel('../data/raw_data/FL/pop_est_2010-2019_fl.xlsx',sheet_name='Sheet1')\n",
    "pop_2010_2019 = pd.DataFrame(pop_2010_2019)\n",
    "pop_2010_2019 = pop_2010_2019.drop(['Census','Estimates Base',2010,2011,2012],axis=1)\n",
    "pop_2010_2019.head()"
   ]
  },
  {
   "cell_type": "code",
   "execution_count": null,
   "id": "a2612480",
   "metadata": {},
   "outputs": [],
   "source": [
    "pop_2020_2021 = pd.read_excel('../data/raw_data/FL/pop_est_2020-2021_fl.xlsx',sheet_name='Sheet1')\n",
    "pop_2020_2021 = pd.DataFrame(pop_2020_2021)\n",
    "pop_2020_2021 = pop_2020_2021.drop('Estimates Base',axis=1)\n",
    "pop_2020_2021.head()"
   ]
  },
  {
   "cell_type": "code",
   "execution_count": null,
   "id": "7be39303",
   "metadata": {},
   "outputs": [],
   "source": [
    "pop_combined = pd.merge(pop_2010_2019,pop_2020_2021,how=\"left\",on=\"County\")\n",
    "pop_combined['County'] = pop_combined['County'].str.strip()\n",
    "pop_combined['County'] = pop_combined['County'].str.upper()\n",
    "pop_combined.head()"
   ]
  },
  {
   "cell_type": "code",
   "execution_count": null,
   "id": "baacfe94",
   "metadata": {},
   "outputs": [],
   "source": [
    "pop_combined.tail(15)"
   ]
  },
  {
   "cell_type": "code",
   "execution_count": null,
   "id": "0e8514df",
   "metadata": {},
   "outputs": [],
   "source": [
    "metros = pd.read_excel('../data/raw_data/metro_areas.xlsx',sheet_name='Filtered_States')\n",
    "metros_df = pd.DataFrame(metros)\n",
    "metros_fl = metros_df[metros_df['State Name']=='Florida']\n",
    "metros_fl['County'] = metros_fl['County'].str.strip()\n",
    "metros_fl['County'] = metros_fl['County'].str.upper()\n",
    "metros_fl.head()"
   ]
  },
  {
   "cell_type": "markdown",
   "id": "d3889374",
   "metadata": {},
   "source": [
    "### Extracting data for year 2013 and combining with pop along with Metropolitans and Micropolitans"
   ]
  },
  {
   "cell_type": "code",
   "execution_count": null,
   "id": "0854a3e8",
   "metadata": {},
   "outputs": [],
   "source": [
    "file_2013 ='../data/raw_data/FL/FL_2013.pdf'"
   ]
  },
  {
   "cell_type": "code",
   "execution_count": null,
   "id": "6e0fd0e0",
   "metadata": {},
   "outputs": [],
   "source": [
    "fl_df_crashes13 = pd.DataFrame()\n",
    "pages = list(range(43,45))\n",
    "pdf = pdfplumber.open(file_2013)\n",
    "for page in pages:    \n",
    "    table=pdf.pages[page].extract_table()\n",
    "    df = pd.DataFrame(table)\n",
    "    fl_df_crashes13 = fl_df_crashes13.append(df)"
   ]
  },
  {
   "cell_type": "code",
   "execution_count": null,
   "id": "3cba0387",
   "metadata": {},
   "outputs": [],
   "source": [
    "fl_df_crashes13 = fl_df_crashes13.drop([0,2,3,4,5,6,8,9,10,11],axis=1)\n",
    "fl_df_crashes13 = fl_df_crashes13.iloc[:-2 , :]\n",
    "fl_df_crashes13 = fl_df_crashes13.iloc[2: , :]\n",
    "fl_df_crashes13.columns = ['County','total_crashes']\n",
    "fl_df_crashes13.head()"
   ]
  },
  {
   "cell_type": "code",
   "execution_count": null,
   "id": "e4c33949",
   "metadata": {},
   "outputs": [],
   "source": [
    "fl_df_crashes13.tail(15)"
   ]
  },
  {
   "cell_type": "code",
   "execution_count": null,
   "id": "c09766f8",
   "metadata": {},
   "outputs": [],
   "source": [
    "fl_df_fatalaties13 = pd.DataFrame()\n",
    "pages = list(range(45,47))\n",
    "pdf = pdfplumber.open(file_2013)\n",
    "for page in pages:    \n",
    "    table=pdf.pages[page].extract_table()\n",
    "    df = pd.DataFrame(table)\n",
    "    fl_df_fatalaties13 = fl_df_fatalaties13.append(df)"
   ]
  },
  {
   "cell_type": "code",
   "execution_count": null,
   "id": "6b145536",
   "metadata": {},
   "outputs": [],
   "source": [
    "fl_df_fatalaties13 = fl_df_fatalaties13.drop([0,2,3,4,5,6,8,9,10,11],axis=1)\n",
    "fl_df_fatalaties13 = fl_df_fatalaties13.iloc[:-2 , :]\n",
    "fl_df_fatalaties13 = fl_df_fatalaties13.iloc[2: , :]\n",
    "fl_df_fatalaties13.columns = ['County','fatalities']\n",
    "fl_df_fatalaties13.head()"
   ]
  },
  {
   "cell_type": "code",
   "execution_count": null,
   "id": "c8e74e84",
   "metadata": {},
   "outputs": [],
   "source": [
    "fl_df_fatalaties13.tail(15)"
   ]
  },
  {
   "cell_type": "code",
   "execution_count": null,
   "id": "f4f8b34c",
   "metadata": {},
   "outputs": [],
   "source": [
    "fl_df_injuries13 = pd.DataFrame()\n",
    "pages = list(range(47,49))\n",
    "pdf = pdfplumber.open(file_2013)\n",
    "for page in pages:    \n",
    "    table=pdf.pages[page].extract_table()\n",
    "    df = pd.DataFrame(table)\n",
    "    fl_df_injuries13 = fl_df_injuries13.append(df)"
   ]
  },
  {
   "cell_type": "code",
   "execution_count": null,
   "id": "ce2df249",
   "metadata": {},
   "outputs": [],
   "source": [
    "fl_df_injuries13 = fl_df_injuries13.drop([0,2,3,4,5,6,8,9,10,11],axis=1)\n",
    "fl_df_injuries13 = fl_df_injuries13.iloc[:-2 , :]\n",
    "fl_df_injuries13 = fl_df_injuries13.iloc[2: , :]\n",
    "fl_df_injuries13.columns = ['County','injuries']\n",
    "fl_df_injuries13.head()"
   ]
  },
  {
   "cell_type": "code",
   "execution_count": null,
   "id": "a4c529b5",
   "metadata": {},
   "outputs": [],
   "source": [
    "fl_df_injuries13.tail(15)"
   ]
  },
  {
   "cell_type": "code",
   "execution_count": null,
   "id": "8d59da26",
   "metadata": {},
   "outputs": [],
   "source": [
    "fl_df_2013 = pd.merge(pd.merge(fl_df_fatalaties13,fl_df_injuries13,on='County'),fl_df_crashes13,on='County')\n",
    "fl_df_2013 = fl_df_2013.drop(labels=63, axis=0)\n",
    "fl_df_2013['County'] = fl_df_2013['County'].str.strip()\n",
    "fl_df_2013['County'] = fl_df_2013['County'].str.upper()\n",
    "fl_df_2013.head(10)"
   ]
  },
  {
   "cell_type": "code",
   "execution_count": null,
   "id": "f4a0369a",
   "metadata": {},
   "outputs": [],
   "source": [
    "fl_df_2013.tail(10)"
   ]
  },
  {
   "cell_type": "code",
   "execution_count": null,
   "id": "47ede1b0",
   "metadata": {},
   "outputs": [],
   "source": [
    "df_combined_fl_13 = pd.merge(fl_df_2013,pop_combined[['County', 2013]],on=\"County\",how='left')\n",
    "df_combined_fl_2013 = pd.merge(df_combined_fl_13,metros_fl[['CBSA Title','Metropolitan/Micropolitan Statistical Area','County']],on=\"County\",how='left')\n",
    "df_combined_fl_2013.rename(columns = {2013:'population'}, inplace = True)\n",
    "df_combined_fl_2013.insert(0,'Year',2013)    \n",
    "df_combined_fl_2013.head(10)"
   ]
  },
  {
   "cell_type": "code",
   "execution_count": null,
   "id": "e851026b",
   "metadata": {},
   "outputs": [],
   "source": [
    "df_combined_fl_2013.tail(10)"
   ]
  },
  {
   "cell_type": "code",
   "execution_count": null,
   "id": "a3693306",
   "metadata": {},
   "outputs": [],
   "source": [
    "df_combined_fl_2013.to_excel('../data/cleaned_data/2013_FL.xlsx', engine='xlsxwriter',index=False)"
   ]
  },
  {
   "cell_type": "markdown",
   "id": "664ac710",
   "metadata": {},
   "source": [
    "### Extracting data for years 2014 thru 2016 and combining with pop along with Metropolitans and Micropolitans"
   ]
  },
  {
   "cell_type": "code",
   "execution_count": null,
   "id": "26323fc9",
   "metadata": {},
   "outputs": [],
   "source": [
    "file_2014_2016 ='../data/raw_data/FL/FL_2016.pdf'"
   ]
  },
  {
   "cell_type": "code",
   "execution_count": null,
   "id": "2f300685",
   "metadata": {},
   "outputs": [],
   "source": [
    "fl_df_2014_2016 = pd.DataFrame()\n",
    "pages = list(range(35,42))\n",
    "pdf = pdfplumber.open(file_2014_2016)\n",
    "for page in pages:    \n",
    "    table=pdf.pages[page].extract_table()\n",
    "    table = table[1:]\n",
    "    list_length = len(table)\n",
    "    paired_list = [table[i] + table[i+1]+ table[i+2] for i in range(0, list_length-1,4)]\n",
    "    df = pd.DataFrame(paired_list)\n",
    "    fl_df_2014_2016 = fl_df_2014_2016.append(df)"
   ]
  },
  {
   "cell_type": "code",
   "execution_count": null,
   "id": "0ff495d8",
   "metadata": {},
   "outputs": [],
   "source": [
    "fl_df_2014_2016 = fl_df_2014_2016.drop([5,6,7,12,13,14,19,20],axis=1)\n",
    "fl_df_2014_2016.head()"
   ]
  },
  {
   "cell_type": "code",
   "execution_count": null,
   "id": "978a1e27",
   "metadata": {},
   "outputs": [],
   "source": [
    "fl_df_2014_2016.tail()"
   ]
  },
  {
   "cell_type": "code",
   "execution_count": null,
   "id": "98d2377b",
   "metadata": {},
   "outputs": [],
   "source": [
    "fl_df_melt_2016 = pd.melt(fl_df_2014_2016,id_vars=[2,9,16],value_vars=[0])\n",
    "fl_df_melt_2016 = fl_df_melt_2016.drop(['variable'],axis=1)\n",
    "fl_df_melt_2016 = fl_df_melt_2016[['value',9, 16,2]]\n",
    "fl_df_melt_2016.columns = ['County','fatalities','injuries','total_crashes']\n",
    "fl_df_melt_2016.head(10)"
   ]
  },
  {
   "cell_type": "code",
   "execution_count": null,
   "id": "c11425c2",
   "metadata": {},
   "outputs": [],
   "source": [
    "fl_df_melt_2016['County'] = fl_df_melt_2016['County'].str.strip()\n",
    "fl_df_melt_2016['County'] = fl_df_melt_2016['County'].str.upper()\n",
    "df_combined_fl_16 = pd.merge(fl_df_melt_2016,pop_combined[['County', 2016]],on=\"County\",how='left')\n",
    "df_combined_fl_2016 = pd.merge(df_combined_fl_16,metros_fl[['CBSA Title','Metropolitan/Micropolitan Statistical Area','County']],on=\"County\",how='left')\n",
    "df_combined_fl_2016.rename(columns = {2016:'population'}, inplace = True)\n",
    "df_combined_fl_2016.insert(0,'Year',2016) \n",
    "df_combined_fl_2016.head()"
   ]
  },
  {
   "cell_type": "code",
   "execution_count": null,
   "id": "396df705",
   "metadata": {},
   "outputs": [],
   "source": [
    "fl_df_melt_2015 = pd.melt(fl_df_2014_2016,id_vars=[10,17,3],value_vars=[0])\n",
    "fl_df_melt_2015 = fl_df_melt_2015.drop(['variable'],axis=1)\n",
    "fl_df_melt_2015 = fl_df_melt_2015[['value',10,17,3]]\n",
    "fl_df_melt_2015.columns = ['County','fatalities','injuries','total_crashes']\n",
    "fl_df_melt_2015.head(10)"
   ]
  },
  {
   "cell_type": "code",
   "execution_count": null,
   "id": "fd134047",
   "metadata": {},
   "outputs": [],
   "source": [
    "fl_df_melt_2015['County'] = fl_df_melt_2015['County'].str.strip()\n",
    "fl_df_melt_2015['County'] = fl_df_melt_2015['County'].str.upper()\n",
    "df_combined_fl_15 = pd.merge(fl_df_melt_2015,pop_combined[['County', 2015]],on=\"County\",how='left')\n",
    "df_combined_fl_2015 = pd.merge(df_combined_fl_15,metros_fl[['CBSA Title','Metropolitan/Micropolitan Statistical Area','County']],on=\"County\",how='left')\n",
    "df_combined_fl_2015.rename(columns = {2015:'population'}, inplace = True)\n",
    "df_combined_fl_2015.insert(0,'Year',2015) \n",
    "df_combined_fl_2015.head()"
   ]
  },
  {
   "cell_type": "code",
   "execution_count": null,
   "id": "8913baa1",
   "metadata": {},
   "outputs": [],
   "source": [
    "fl_df_melt_2014 = pd.melt(fl_df_2014_2016,id_vars=[11,18,4],value_vars=[0])\n",
    "fl_df_melt_2014 = fl_df_melt_2014.drop(['variable'],axis=1)\n",
    "fl_df_melt_2014 = fl_df_melt_2014[['value',11,18,4]]\n",
    "fl_df_melt_2014.columns = ['County','fatalities','injuries','total_crashes']\n",
    "fl_df_melt_2014.head(10)"
   ]
  },
  {
   "cell_type": "code",
   "execution_count": null,
   "id": "b0efef88",
   "metadata": {},
   "outputs": [],
   "source": [
    "fl_df_melt_2014['County'] = fl_df_melt_2014['County'].str.strip()\n",
    "fl_df_melt_2014['County'] = fl_df_melt_2014['County'].str.upper()\n",
    "df_combined_fl_14 = pd.merge(fl_df_melt_2014,pop_combined[['County', 2014]],on=\"County\",how='left')\n",
    "df_combined_fl_2014 = pd.merge(df_combined_fl_14,metros_fl[['CBSA Title','Metropolitan/Micropolitan Statistical Area','County']],on=\"County\",how='left')\n",
    "df_combined_fl_2014.rename(columns = {2014:'population'}, inplace = True)\n",
    "df_combined_fl_2014.insert(0,'Year',2014) \n",
    "df_combined_fl_2014.head()"
   ]
  },
  {
   "cell_type": "code",
   "execution_count": null,
   "id": "271b3055",
   "metadata": {},
   "outputs": [],
   "source": [
    "df_combined_fl_2014.to_excel('../data/cleaned_data/2014_FL.xlsx', engine='xlsxwriter',index=False)\n",
    "df_combined_fl_2015.to_excel('../data/cleaned_data/2015_FL.xlsx', engine='xlsxwriter',index=False)\n",
    "df_combined_fl_2016.to_excel('../data/cleaned_data/2016_FL.xlsx', engine='xlsxwriter',index=False)"
   ]
  },
  {
   "cell_type": "markdown",
   "id": "95f09f7e",
   "metadata": {},
   "source": [
    "### Extracting data for year 2017"
   ]
  },
  {
   "cell_type": "code",
   "execution_count": null,
   "id": "3c65d4a5",
   "metadata": {},
   "outputs": [],
   "source": [
    "file_2017 ='../data/raw_data/FL/FL_2017.pdf'"
   ]
  },
  {
   "cell_type": "code",
   "execution_count": null,
   "id": "bcca41b3",
   "metadata": {},
   "outputs": [],
   "source": [
    "my_dict_p35 = {}\n",
    "pdf = pdfplumber.open(file_2017)\n",
    "txt = pdf.pages[35].extract_text()\n",
    "txt = txt[203:]\n",
    "txt = txt[:-113]\n",
    "county = re.findall(\"(\\w+)(?=\\\\nTotal Injuries)\",txt)\n",
    "crashes = re.findall(\"(?<=Total Crashes)\\s\\d+\\,?\\d+\",txt)        \n",
    "fatalaties = re.findall(\"(?<=Total Fatalities)\\s\\d+\",txt)          \n",
    "injuries = re.findall(\"(?<=Total Injuries)\\s\\d+\\,?\\d+\",txt)\n",
    "my_dict_p35['County'] = county\n",
    "my_dict_p35['fatalities'] = fatalaties\n",
    "my_dict_p35['injuries'] = injuries\n",
    "my_dict_p35['total_crashes'] = crashes\n",
    "print(county,crashes,fatalaties,injuries)"
   ]
  },
  {
   "cell_type": "code",
   "execution_count": null,
   "id": "252470e7",
   "metadata": {},
   "outputs": [],
   "source": [
    "my_dict_p35['County'].append('Clay')\n",
    "my_dict_p35['fatalities'].append('21')\n",
    "my_dict_p35['injuries'].append('1,804')\n",
    "my_dict_p35['total_crashes'].append('2,961')\n",
    "print(my_dict_p35)"
   ]
  },
  {
   "cell_type": "code",
   "execution_count": null,
   "id": "a8cb9475",
   "metadata": {},
   "outputs": [],
   "source": [
    "my_dict_p36 = {}\n",
    "pdf = pdfplumber.open(file_2017)\n",
    "txt = pdf.pages[36].extract_text()\n",
    "txt = txt[120:]\n",
    "txt = txt[:-70]\n",
    "county = re.findall(\"(\\w+)(?=\\\\nTotal Injuries)\",txt)\n",
    "crashes = re.findall(\"(?<=Total Crashes)\\s\\d+\\,?\\d+\",txt)        \n",
    "fatalaties = re.findall(\"(?<=Total Fatalities)\\s\\d+\",txt)          \n",
    "injuries = re.findall(\"(?<=Total Injuries)\\s\\d+\\,?\\d+\",txt)\n",
    "my_dict_p36['County'] = county\n",
    "my_dict_p36['fatalities'] = fatalaties\n",
    "my_dict_p36['injuries'] = injuries\n",
    "my_dict_p36['total_crashes'] = crashes\n",
    "print(county,crashes,fatalaties,injuries)"
   ]
  },
  {
   "cell_type": "code",
   "execution_count": null,
   "id": "5fead2ad",
   "metadata": {},
   "outputs": [],
   "source": [
    "my_dict_p36['County'].append('Glades')\n",
    "my_dict_p36['fatalities'].append('13')\n",
    "my_dict_p36['injuries'].append('153')\n",
    "my_dict_p36['total_crashes'].append('202')\n",
    "print(my_dict_p36)"
   ]
  },
  {
   "cell_type": "code",
   "execution_count": null,
   "id": "5612ac51",
   "metadata": {},
   "outputs": [],
   "source": [
    "my_dict_p37 = {}\n",
    "pdf = pdfplumber.open(file_2017)\n",
    "txt = pdf.pages[37].extract_text()\n",
    "txt = txt[149:]\n",
    "txt = txt[:-26]\n",
    "county = re.findall(\"(\\w+\\s?\\w+?)(?=\\\\nTotal Injuries)\",txt)\n",
    "crashes = re.findall(\"(?<=Total Crashes)\\s\\d+\\,?\\d+\",txt)        \n",
    "fatalaties = re.findall(\"(?<=Total Fatalities)\\s\\d+\",txt)          \n",
    "injuries = re.findall(\"(?<=Total Injuries)\\s\\d+\\,?\\d+\",txt)\n",
    "my_dict_p37['County'] = county\n",
    "my_dict_p37['fatalities'] = fatalaties\n",
    "my_dict_p37['injuries'] = injuries\n",
    "my_dict_p37['total_crashes'] = crashes\n",
    "print(county,crashes,fatalaties,injuries)"
   ]
  },
  {
   "cell_type": "code",
   "execution_count": null,
   "id": "95bf24a6",
   "metadata": {},
   "outputs": [],
   "source": [
    "my_dict_p37['County'] = ['Gulf', 'Hamilton', 'Hardee', 'Hendry', 'Hernando', 'Highlands', 'Hillsborough', 'Holmes', 'Indian River', 'Jackson']\n",
    "print(my_dict_p37)"
   ]
  },
  {
   "cell_type": "code",
   "execution_count": null,
   "id": "6914a564",
   "metadata": {},
   "outputs": [],
   "source": [
    "my_dict_p38 = {}\n",
    "pdf = pdfplumber.open(file_2017)\n",
    "txt = pdf.pages[38].extract_text()\n",
    "txt = txt[68:]\n",
    "txt = txt[:-161]\n",
    "county = re.findall(\"(\\w+)(?=\\\\nTotal Injuries)\",txt)\n",
    "crashes = re.findall(\"(?<=Total Crashes)\\s\\d+\\,?\\d+\",txt)        \n",
    "fatalaties = re.findall(\"(?<=Total Fatalities)\\s\\d+\",txt)          \n",
    "injuries = re.findall(\"(?<=Total Injuries)\\s\\d+\\,?\\d+\",txt)\n",
    "my_dict_p38['County'] = county\n",
    "my_dict_p38['fatalities'] = fatalaties\n",
    "my_dict_p38['injuries'] = injuries\n",
    "my_dict_p38['total_crashes'] = crashes\n",
    "print(county,crashes,fatalaties,injuries)"
   ]
  },
  {
   "cell_type": "code",
   "execution_count": null,
   "id": "417de0b0",
   "metadata": {},
   "outputs": [],
   "source": [
    "my_dict_p38['County'].append('Martin')\n",
    "my_dict_p38['fatalities'].append('25')\n",
    "my_dict_p38['injuries'].append('2,087')\n",
    "my_dict_p38['total_crashes'].append('3,466')\n",
    "print(my_dict_p38)"
   ]
  },
  {
   "cell_type": "code",
   "execution_count": null,
   "id": "e1a17b20",
   "metadata": {},
   "outputs": [],
   "source": [
    "my_dict_p39 = {}\n",
    "pdf = pdfplumber.open(file_2017)\n",
    "txt = pdf.pages[39].extract_text()\n",
    "txt = txt[75:]\n",
    "txt = txt[:-120]\n",
    "county = re.findall(\"(\\w+.?\\s?\\w+?)(?=\\\\nTotal Injuries)\",txt)\n",
    "crashes = re.findall(\"(?<=Total Crashes)\\s\\d+\\,?\\d+\",txt)        \n",
    "fatalaties = re.findall(\"(?<=Total Fatalities)\\s\\d+\",txt)          \n",
    "injuries = re.findall(\"(?<=Total Injuries)\\s\\d+\\,?\\d+\",txt)\n",
    "my_dict_p39['County'] = county\n",
    "my_dict_p39['fatalities'] = fatalaties\n",
    "my_dict_p39['injuries'] = injuries\n",
    "my_dict_p39['total_crashes'] = crashes\n",
    "print(county,crashes,fatalaties,injuries)"
   ]
  },
  {
   "cell_type": "code",
   "execution_count": null,
   "id": "9d227fdb",
   "metadata": {},
   "outputs": [],
   "source": [
    "my_dict_p39['County'] = ['Miami-Dade', 'Monroe', 'Nassau', 'Okaloosa', 'Okeechobee', 'Orange', 'Osceola', 'Palm Beach', 'Pasco', 'Pinellas']\n",
    "my_dict_p39['County'].append('Polk')\n",
    "my_dict_p39['fatalities'].append('112')\n",
    "my_dict_p39['injuries'].append('7,555')\n",
    "my_dict_p39['total_crashes'].append('11,378')\n",
    "print(my_dict_p39)"
   ]
  },
  {
   "cell_type": "code",
   "execution_count": null,
   "id": "07c3d196",
   "metadata": {},
   "outputs": [],
   "source": [
    "my_dict_p40 = {}\n",
    "pdf = pdfplumber.open(file_2017)\n",
    "txt = pdf.pages[40].extract_text()\n",
    "txt = txt[120:]\n",
    "txt = txt[:-78]\n",
    "county = txt.strip()\n",
    "county = re.findall(\"(\\w+.?\\s?\\w+?)(?=\\\\nTotal Injuries)\",txt)\n",
    "crashes = re.findall(\"(?<=Total Crashes)\\s\\d+\\,?\\d+\",txt)        \n",
    "fatalaties = re.findall(\"(?<=Total Fatalities)\\s\\d+\",txt)          \n",
    "injuries = re.findall(\"(?<=Total Injuries)\\s\\d+\\,?\\d+\",txt)\n",
    "my_dict_p40['County'] = county\n",
    "my_dict_p40['fatalities'] = fatalaties\n",
    "my_dict_p40['injuries'] = injuries\n",
    "my_dict_p40['total_crashes'] = crashes\n",
    "print(county,crashes,fatalaties,injuries)\n"
   ]
  },
  {
   "cell_type": "code",
   "execution_count": null,
   "id": "67c4a836",
   "metadata": {},
   "outputs": [],
   "source": [
    "my_dict_p40['County'] = ['Putnam', 'Santa Rosa', 'Sarasota', 'Seminole', 'St. Johns', 'St. Lucie', 'Sumter', 'Suwannee', 'Taylor', 'Union']\n",
    "my_dict_p40['County'].append('Volusia')\n",
    "my_dict_p40['fatalities'].append('130')\n",
    "my_dict_p40['injuries'].append('6,527')\n",
    "my_dict_p40['total_crashes'].append('9,601')\n",
    "print(my_dict_p40)"
   ]
  },
  {
   "cell_type": "code",
   "execution_count": null,
   "id": "88350fe5",
   "metadata": {},
   "outputs": [],
   "source": [
    "my_dict_p41 = {}\n",
    "pdf = pdfplumber.open(file_2017)\n",
    "txt = pdf.pages[41].extract_text()\n",
    "txt = txt[160:]\n",
    "txt = txt[:-26]\n",
    "county = re.findall(\"(\\w+\\-?\\w+?)(?=\\\\nTotal Injuries)\",txt)\n",
    "crashes = re.findall(\"(?<=Total Crashes)\\s\\d+\\,?\\d+\",txt)        \n",
    "fatalaties = re.findall(\"(?<=Total Fatalities)\\s\\d+\",txt)          \n",
    "injuries = re.findall(\"(?<=Total Injuries)\\s\\d+\\,?\\d+\",txt)\n",
    "my_dict_p41['County'] = county\n",
    "my_dict_p41['fatalities'] = fatalaties\n",
    "my_dict_p41['injuries'] = injuries\n",
    "my_dict_p41['total_crashes'] = crashes\n",
    "print(county,crashes,fatalaties,injuries)"
   ]
  },
  {
   "cell_type": "code",
   "execution_count": null,
   "id": "61d6cdec",
   "metadata": {},
   "outputs": [],
   "source": [
    "my_dict_combined = defaultdict(list)\n",
    "dict_items = map(methodcaller('items'), (my_dict_p35,my_dict_p36,my_dict_p37,my_dict_p38,my_dict_p39,my_dict_p40,my_dict_p41))\n",
    "for k, v in chain.from_iterable(dict_items):\n",
    "    my_dict_combined[k].extend(v)\n",
    "print(my_dict_combined)"
   ]
  },
  {
   "cell_type": "code",
   "execution_count": null,
   "id": "ed86edc3",
   "metadata": {},
   "outputs": [],
   "source": [
    "fl_df_2017 = pd.DataFrame(my_dict_combined)\n",
    "fl_df_2017.head()"
   ]
  },
  {
   "cell_type": "code",
   "execution_count": null,
   "id": "3106a58b",
   "metadata": {},
   "outputs": [],
   "source": [
    "fl_df_2017.tail()"
   ]
  },
  {
   "cell_type": "code",
   "execution_count": null,
   "id": "2a27bd96",
   "metadata": {},
   "outputs": [],
   "source": [
    "fl_df_2017['County'] = fl_df_2017['County'].str.strip()\n",
    "fl_df_2017['County'] = fl_df_2017['County'].str.upper()\n",
    "df_combined_fl_17 = pd.merge(fl_df_2017,pop_combined[['County', 2017]],on=\"County\",how='left')\n",
    "df_combined_fl_2017 = pd.merge(df_combined_fl_17,metros_fl[['CBSA Title','Metropolitan/Micropolitan Statistical Area','County']],on=\"County\",how='left')\n",
    "df_combined_fl_2017.rename(columns = {2017:'population'}, inplace = True)\n",
    "df_combined_fl_2017.insert(0,'Year',2017)\n",
    "df_combined_fl_2017.head(15)"
   ]
  },
  {
   "cell_type": "code",
   "execution_count": null,
   "id": "5ca43a0d",
   "metadata": {},
   "outputs": [],
   "source": [
    "df_combined_fl_2017.to_excel('../data/cleaned_data/2017_FL.xlsx', engine='xlsxwriter',index=False)"
   ]
  },
  {
   "cell_type": "markdown",
   "id": "981e4cbd",
   "metadata": {},
   "source": [
    "### Extracting data for years 2018 thru 2020 and combining with pop along with Metropolitans and Micropolitans"
   ]
  },
  {
   "cell_type": "code",
   "execution_count": null,
   "id": "cb05a063",
   "metadata": {},
   "outputs": [],
   "source": [
    "file_2018_2020 ='../data/raw_data/FL/FL_2020.pdf'"
   ]
  },
  {
   "cell_type": "code",
   "execution_count": null,
   "id": "c1a0285d",
   "metadata": {},
   "outputs": [],
   "source": [
    "fl_df_2018_2020 = pd.DataFrame()\n",
    "pages = list(range(38,46))\n",
    "pdf = pdfplumber.open(file_2018_2020)\n",
    "for page in pages:    \n",
    "    table=pdf.pages[page].extract_table()\n",
    "    table = table[1:]\n",
    "    list_length = len(table)\n",
    "    paired_list = [table[i] + table[i+1]+ table[i+2] for i in range(0, list_length-1,4)]\n",
    "    df = pd.DataFrame(paired_list)\n",
    "    fl_df_2018_2020 = fl_df_2018_2020.append(df)"
   ]
  },
  {
   "cell_type": "code",
   "execution_count": null,
   "id": "1fd0c0a8",
   "metadata": {},
   "outputs": [],
   "source": [
    "fl_df_2018_2020 = fl_df_2018_2020.drop([5,6,7,12,13,14,19,20],axis=1)\n",
    "fl_df_2018_2020 = fl_df_2018_2020.iloc[:-1 , :]\n",
    "fl_df_2018_2020.head()"
   ]
  },
  {
   "cell_type": "code",
   "execution_count": null,
   "id": "ce45048d",
   "metadata": {},
   "outputs": [],
   "source": [
    "fl_df_2018_2020.tail()"
   ]
  },
  {
   "cell_type": "code",
   "execution_count": null,
   "id": "9ffb90fc",
   "metadata": {},
   "outputs": [],
   "source": [
    "fl_df_melt_2020 = pd.melt(fl_df_2018_2020,id_vars=[2,9,16],value_vars=[0])\n",
    "fl_df_melt_2020 = fl_df_melt_2020.drop(['variable'],axis=1)\n",
    "fl_df_melt_2020 = fl_df_melt_2020[['value',9, 16,2]]\n",
    "fl_df_melt_2020.columns = ['County','fatalities','injuries','total_crashes']\n",
    "fl_df_melt_2020['County'] = fl_df_melt_2020['County'].str.strip()\n",
    "fl_df_melt_2020['County'] = fl_df_melt_2020['County'].str.upper()\n",
    "fl_df_melt_2020.head(10)"
   ]
  },
  {
   "cell_type": "code",
   "execution_count": null,
   "id": "2ea33aeb",
   "metadata": {},
   "outputs": [],
   "source": [
    "df_combined_fl_20 = pd.merge(fl_df_melt_2020,pop_combined[['County', 2020]],on=\"County\",how='left')\n",
    "df_combined_fl_2020 = pd.merge(df_combined_fl_20,metros_fl[['CBSA Title','Metropolitan/Micropolitan Statistical Area','County']],on=\"County\",how='left')\n",
    "df_combined_fl_2020.rename(columns = {2020:'population'}, inplace = True)\n",
    "df_combined_fl_2020.insert(0,'Year',2020)\n",
    "df_combined_fl_2020.head()"
   ]
  },
  {
   "cell_type": "code",
   "execution_count": null,
   "id": "62d8ebea",
   "metadata": {},
   "outputs": [],
   "source": [
    "df_combined_fl_2020.tail(15)"
   ]
  },
  {
   "cell_type": "code",
   "execution_count": null,
   "id": "04acfb23",
   "metadata": {},
   "outputs": [],
   "source": [
    "fl_df_melt_2019 = pd.melt(fl_df_2018_2020,id_vars=[10,17,3],value_vars=[0])\n",
    "fl_df_melt_2019 = fl_df_melt_2019.drop(['variable'],axis=1)\n",
    "fl_df_melt_2019 = fl_df_melt_2019[['value',10,17,3]]\n",
    "fl_df_melt_2019.columns = ['County','fatalities','injuries','total_crashes']\n",
    "fl_df_melt_2019.head(10)"
   ]
  },
  {
   "cell_type": "code",
   "execution_count": null,
   "id": "65152884",
   "metadata": {},
   "outputs": [],
   "source": [
    "fl_df_melt_2019['County'] = fl_df_melt_2019['County'].str.strip()\n",
    "fl_df_melt_2019['County'] = fl_df_melt_2019['County'].str.upper()\n",
    "df_combined_fl_19 = pd.merge(fl_df_melt_2019,pop_combined[['County', 2019]],on=\"County\",how='left')\n",
    "df_combined_fl_2019 = pd.merge(df_combined_fl_19,metros_fl[['CBSA Title','Metropolitan/Micropolitan Statistical Area','County']],on=\"County\",how='left')\n",
    "df_combined_fl_2019.rename(columns = {2019:'population'}, inplace = True)\n",
    "df_combined_fl_2019.insert(0,'Year',2019)\n",
    "df_combined_fl_2019.head()"
   ]
  },
  {
   "cell_type": "code",
   "execution_count": null,
   "id": "a982dda5",
   "metadata": {},
   "outputs": [],
   "source": [
    "fl_df_melt_2018 = pd.melt(fl_df_2018_2020,id_vars=[11,18,4],value_vars=[0])\n",
    "fl_df_melt_2018 = fl_df_melt_2018.drop(['variable'],axis=1)\n",
    "fl_df_melt_2018 = fl_df_melt_2018[['value',11,18,4]]\n",
    "fl_df_melt_2018.columns = ['County','fatalities','injuries','total_crashes']\n",
    "fl_df_melt_2018.head(10)"
   ]
  },
  {
   "cell_type": "code",
   "execution_count": null,
   "id": "21c7263a",
   "metadata": {},
   "outputs": [],
   "source": [
    "fl_df_melt_2018['County'] = fl_df_melt_2018['County'].str.strip()\n",
    "fl_df_melt_2018['County'] = fl_df_melt_2018['County'].str.upper()\n",
    "df_combined_fl_18 = pd.merge(fl_df_melt_2018,pop_combined[['County', 2018]],on=\"County\",how='left')\n",
    "df_combined_fl_2018 = pd.merge(df_combined_fl_18,metros_fl[['CBSA Title','Metropolitan/Micropolitan Statistical Area','County']],on=\"County\",how='left')\n",
    "df_combined_fl_2018.rename(columns = {2018:'population'}, inplace = True)\n",
    "df_combined_fl_2018.insert(0,'Year',2018)\n",
    "df_combined_fl_2018.head(10)"
   ]
  },
  {
   "cell_type": "code",
   "execution_count": null,
   "id": "dd2051b8",
   "metadata": {},
   "outputs": [],
   "source": [
    "df_combined_fl_2018.to_excel('../data/cleaned_data/2018_FL.xlsx', engine='xlsxwriter',index=False)\n",
    "df_combined_fl_2019.to_excel('../data/cleaned_data/2019_FL.xlsx', engine='xlsxwriter',index=False)\n",
    "df_combined_fl_2020.to_excel('../data/cleaned_data/2020_FL.xlsx', engine='xlsxwriter',index=False)"
   ]
  },
  {
   "cell_type": "markdown",
   "id": "73be152d",
   "metadata": {},
   "source": [
    "### Combining all the files into a master file"
   ]
  },
  {
   "cell_type": "code",
   "execution_count": null,
   "id": "9f367408",
   "metadata": {},
   "outputs": [],
   "source": [
    "data_file_folder ='../data/cleaned_data/'\n",
    "df = []\n",
    "for file in os.listdir(data_file_folder):\n",
    "        if file.endswith('_FL.xlsx'):             \n",
    "             df.append(pd.read_excel(os.path.join(data_file_folder,file),sheet_name='Sheet1'))\n",
    "df_fl_master = pd.concat(df, axis = 0)\n",
    "df_fl_master['injuries'] = df_fl_master['injuries'].str.replace(',', '').astype(float)\n",
    "df_fl_master['total_crashes'] = df_fl_master['total_crashes'].str.replace(',', '').astype(float)"
   ]
  },
  {
   "cell_type": "code",
   "execution_count": null,
   "id": "63cef82a",
   "metadata": {},
   "outputs": [],
   "source": [
    "df_fl_master.isna().sum()"
   ]
  },
  {
   "cell_type": "code",
   "execution_count": null,
   "id": "89f9aa15",
   "metadata": {},
   "outputs": [],
   "source": [
    "df_fl_master.insert(1,'State','Florida')\n",
    "df_fl_master.head(10)"
   ]
  },
  {
   "cell_type": "code",
   "execution_count": null,
   "id": "162c7de1",
   "metadata": {},
   "outputs": [],
   "source": [
    "df_fl_master.tail(10)"
   ]
  },
  {
   "cell_type": "code",
   "execution_count": null,
   "id": "43a244e4",
   "metadata": {},
   "outputs": [],
   "source": [
    "df_fl_master.to_excel('../data/FL.xlsx', engine='xlsxwriter',index=False)"
   ]
  }
 ],
 "metadata": {
  "kernelspec": {
   "display_name": "Python 3 (ipykernel)",
   "language": "python",
   "name": "python3"
  },
  "language_info": {
   "codemirror_mode": {
    "name": "ipython",
    "version": 3
   },
   "file_extension": ".py",
   "mimetype": "text/x-python",
   "name": "python",
   "nbconvert_exporter": "python",
   "pygments_lexer": "ipython3",
   "version": "3.9.7"
  }
 },
 "nbformat": 4,
 "nbformat_minor": 5
}
