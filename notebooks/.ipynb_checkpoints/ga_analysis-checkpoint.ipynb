{
 "cells": [
  {
   "cell_type": "code",
   "execution_count": null,
   "id": "e17a9526",
   "metadata": {},
   "outputs": [],
   "source": [
    "import pandas as pd\n",
    "import re\n",
    "from collections import namedtuple\n",
    "import os \n",
    "pd.set_option('display.max_rows', 500)\n",
    "pd.set_option('display.max_columns', 500)\n",
    "pd.set_option('display.width', 1000)\n",
    "import numpy as np"
   ]
  },
  {
   "cell_type": "markdown",
   "id": "957fb206",
   "metadata": {},
   "source": [
    "### 1. Importing and  merging pop files\n",
    "### 2. Adding Metropolitans and Micropolitans"
   ]
  },
  {
   "cell_type": "code",
   "execution_count": null,
   "id": "bbf04749",
   "metadata": {},
   "outputs": [],
   "source": [
    "pop_2010_2019 = pd.read_excel('../data/raw_data/GA/pop_est_2010-2019_ga.xlsx',sheet_name='Sheet1')\n",
    "pop_2010_2019 = pd.DataFrame(pop_2010_2019)\n",
    "pop_2010_2019 = pop_2010_2019.drop(['Census','Estimates Base',2010,2011,2012],axis=1)\n",
    "pop_2010_2019.head()"
   ]
  },
  {
   "cell_type": "code",
   "execution_count": null,
   "id": "f9d830a9",
   "metadata": {},
   "outputs": [],
   "source": [
    "pop_2020_2021 = pd.read_excel('../data/raw_data/GA/pop_est_2020-2021_ga.xlsx',sheet_name='Sheet1')\n",
    "pop_2020_2021 = pd.DataFrame(pop_2020_2021)\n",
    "pop_2020_2021 = pop_2020_2021.drop('Estimates Base',axis=1)\n",
    "pop_2020_2021.head()"
   ]
  },
  {
   "cell_type": "code",
   "execution_count": null,
   "id": "eb63419e",
   "metadata": {},
   "outputs": [],
   "source": [
    "pop_combined = pd.merge(pop_2010_2019,pop_2020_2021,how=\"left\",on=\"County\")\n",
    "pop_combined['County'] = pop_combined['County'].str.strip()\n",
    "pop_combined['County'] = pop_combined['County'].str.upper()\n",
    "pop_combined.head()"
   ]
  },
  {
   "cell_type": "code",
   "execution_count": null,
   "id": "91bd474a",
   "metadata": {},
   "outputs": [],
   "source": [
    "metros = pd.read_excel('../data/raw_data/metro_areas.xlsx',sheet_name='Filtered_States')\n",
    "metros_df = pd.DataFrame(metros)\n",
    "metros_ga = metros_df[metros_df['State Name']=='Georgia']\n",
    "metros_ga['County'] = metros_ga['County'].str.strip()\n",
    "metros_ga['County'] = metros_ga['County'].str.upper()\n",
    "metros_ga.head()"
   ]
  },
  {
   "cell_type": "code",
   "execution_count": null,
   "id": "6cd5d82e",
   "metadata": {},
   "outputs": [],
   "source": [
    "file ='../data/raw_data/GA/GA_2013.csv'\n",
    "ga = pd.read_csv(file)\n",
    "df_ga = pd.DataFrame(ga)\n",
    "df_ga.head(10)"
   ]
  },
  {
   "cell_type": "code",
   "execution_count": null,
   "id": "277630ff",
   "metadata": {},
   "outputs": [],
   "source": [
    "df_ga.info()"
   ]
  },
  {
   "cell_type": "code",
   "execution_count": null,
   "id": "8ff04d71",
   "metadata": {},
   "outputs": [],
   "source": [
    "df_ga_new = df_ga.groupby(['Area: County']).agg({'# of Fatalities (Person Table)':'sum','# Serious Injuries':'sum','# Visible Injuries':'sum','# Complaint Injuries':'sum'}).reset_index()\n",
    "df_ga_new['total_crashes'] = df_ga_new.sum(axis = 1)\n",
    "df_ga_new['Injuries'] = df_ga_new['# Serious Injuries'] + df_ga_new['# Visible Injuries'] + df_ga_new['# Complaint Injuries']\n",
    "df_ga_new = df_ga_new.drop(columns=['# Serious Injuries','# Visible Injuries','# Complaint Injuries'],axis=1)\n",
    "df_ga_new.columns = ['County','fatalities','total_crashes','injuries']\n",
    "df_ga_new.head()"
   ]
  },
  {
   "cell_type": "code",
   "execution_count": null,
   "id": "13346785",
   "metadata": {},
   "outputs": [],
   "source": [
    "for filename in os.listdir(\"../data/raw_data/GA/\"):\n",
    "    if filename.startswith(\"GA_\"):\n",
    "        year = re.findall(r'\\d{4}',filename)\n",
    "        for var in year:\n",
    "            name = int(var)\n",
    "        ga_file = pd.read_csv(os.path.join(\"../data/raw_data/GA/\", filename))\n",
    "        df_ga = pd.DataFrame(ga_file)\n",
    "        df_ga_new = df_ga.groupby(['Area: County']).agg({'# of Fatalities (Person Table)':'sum','# Serious Injuries':'sum','# Visible Injuries':'sum','# Complaint Injuries':'sum'}).reset_index()\n",
    "        df_ga_new['total_crashes'] = df_ga_new.sum(axis = 1)\n",
    "        df_ga_new['Injuries'] = df_ga_new['# Serious Injuries'] + df_ga_new['# Visible Injuries'] + df_ga_new['# Complaint Injuries']\n",
    "        df_ga_new = df_ga_new.drop(columns=['# Serious Injuries','# Visible Injuries','# Complaint Injuries'],axis=1)\n",
    "        df_ga_new.columns = ['County','fatalities','total_crashes','injuries']\n",
    "        df_ga_new = df_ga_new[['County','fatalities','injuries','total_crashes']]\n",
    "        df_ga_new['County'] = df_ga_new['County'].str.strip()\n",
    "        df_ga_new['County'] = df_ga_new['County'].str.upper()\n",
    "        df_combined_ga = pd.merge(df_ga_new,pop_combined[['County', name]],on=\"County\",how='left')\n",
    "        df_combined_ga_new = pd.merge(df_combined_ga,metros_ga[['CBSA Title','Metropolitan/Micropolitan Statistical Area','County']],on=\"County\",how='left')\n",
    "        df_combined_ga_new.rename(columns = {name:'population'}, inplace = True)\n",
    "        df_combined_ga_new.insert(0,'Year',name)\n",
    "        df_combined_ga_new.to_excel('../data/cleaned_data/%s_GA.xlsx' % name, engine='xlsxwriter',index=False)\n",
    "    else:\n",
    "        continue"
   ]
  },
  {
   "cell_type": "markdown",
   "id": "29674f17",
   "metadata": {},
   "source": [
    "### Combining all the files into a master file"
   ]
  },
  {
   "cell_type": "code",
   "execution_count": null,
   "id": "fc3efe21",
   "metadata": {},
   "outputs": [],
   "source": [
    "data_file_folder ='../data/cleaned_data/'\n",
    "df = []\n",
    "for file in os.listdir(data_file_folder):\n",
    "        if file.endswith('_GA.xlsx'):             \n",
    "             df.append(pd.read_excel(os.path.join(data_file_folder,file),sheet_name='Sheet1'))\n",
    "df_ga_master = pd.concat(df, axis = 0)"
   ]
  },
  {
   "cell_type": "code",
   "execution_count": null,
   "id": "9bba3aaa",
   "metadata": {},
   "outputs": [],
   "source": [
    "df_ga_master.isna().sum()"
   ]
  },
  {
   "cell_type": "code",
   "execution_count": null,
   "id": "0f44e4fd",
   "metadata": {},
   "outputs": [],
   "source": [
    "df_ga_master.insert(1,'State','Georgia') \n",
    "df_ga_master.head(10)"
   ]
  },
  {
   "cell_type": "code",
   "execution_count": null,
   "id": "3dff7adb",
   "metadata": {},
   "outputs": [],
   "source": [
    "df_ga_master.tail(10)"
   ]
  },
  {
   "cell_type": "code",
   "execution_count": null,
   "id": "2b3a0a6c",
   "metadata": {},
   "outputs": [],
   "source": [
    "df_ga_master.to_excel('../data/GA.xlsx', engine='xlsxwriter',index=False)"
   ]
  },
  {
   "cell_type": "code",
   "execution_count": null,
   "id": "ef2c7507",
   "metadata": {},
   "outputs": [],
   "source": []
  }
 ],
 "metadata": {
  "kernelspec": {
   "display_name": "Python 3 (ipykernel)",
   "language": "python",
   "name": "python3"
  },
  "language_info": {
   "codemirror_mode": {
    "name": "ipython",
    "version": 3
   },
   "file_extension": ".py",
   "mimetype": "text/x-python",
   "name": "python",
   "nbconvert_exporter": "python",
   "pygments_lexer": "ipython3",
   "version": "3.9.7"
  }
 },
 "nbformat": 4,
 "nbformat_minor": 5
}
