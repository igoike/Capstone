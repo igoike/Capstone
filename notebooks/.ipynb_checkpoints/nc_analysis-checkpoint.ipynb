{
 "cells": [
  {
   "cell_type": "code",
   "execution_count": 1,
   "id": "52840b20",
   "metadata": {},
   "outputs": [],
   "source": [
    "import pandas as pd\n",
    "import re\n",
    "from collections import namedtuple\n",
    "import pdfplumber\n",
    "import os \n",
    "pd.set_option('display.max_rows', 500)\n",
    "pd.set_option('display.max_columns', 500)\n",
    "pd.set_option('display.width', 1000)\n",
    "import numpy as np"
   ]
  },
  {
   "cell_type": "markdown",
   "id": "b72d9e50",
   "metadata": {},
   "source": [
    "### 1. Importing and  merging pop files\n",
    "### 2. Adding Metropolitans and Micropolitans"
   ]
  },
  {
   "cell_type": "code",
   "execution_count": 2,
   "id": "a9f13c04",
   "metadata": {},
   "outputs": [
    {
     "data": {
      "text/html": [
       "<div>\n",
       "<style scoped>\n",
       "    .dataframe tbody tr th:only-of-type {\n",
       "        vertical-align: middle;\n",
       "    }\n",
       "\n",
       "    .dataframe tbody tr th {\n",
       "        vertical-align: top;\n",
       "    }\n",
       "\n",
       "    .dataframe thead th {\n",
       "        text-align: right;\n",
       "    }\n",
       "</style>\n",
       "<table border=\"1\" class=\"dataframe\">\n",
       "  <thead>\n",
       "    <tr style=\"text-align: right;\">\n",
       "      <th></th>\n",
       "      <th>County</th>\n",
       "      <th>2013</th>\n",
       "      <th>2014</th>\n",
       "      <th>2015</th>\n",
       "      <th>2016</th>\n",
       "      <th>2017</th>\n",
       "      <th>2018</th>\n",
       "      <th>2019</th>\n",
       "    </tr>\n",
       "  </thead>\n",
       "  <tbody>\n",
       "    <tr>\n",
       "      <th>0</th>\n",
       "      <td>Alamance</td>\n",
       "      <td>154162</td>\n",
       "      <td>155384</td>\n",
       "      <td>157037</td>\n",
       "      <td>160283</td>\n",
       "      <td>163276</td>\n",
       "      <td>166514</td>\n",
       "      <td>169509</td>\n",
       "    </tr>\n",
       "    <tr>\n",
       "      <th>1</th>\n",
       "      <td>Alexander</td>\n",
       "      <td>37012</td>\n",
       "      <td>36987</td>\n",
       "      <td>36960</td>\n",
       "      <td>37133</td>\n",
       "      <td>37143</td>\n",
       "      <td>37331</td>\n",
       "      <td>37497</td>\n",
       "    </tr>\n",
       "    <tr>\n",
       "      <th>2</th>\n",
       "      <td>Alleghany</td>\n",
       "      <td>10903</td>\n",
       "      <td>10891</td>\n",
       "      <td>10856</td>\n",
       "      <td>10919</td>\n",
       "      <td>10988</td>\n",
       "      <td>11138</td>\n",
       "      <td>11137</td>\n",
       "    </tr>\n",
       "    <tr>\n",
       "      <th>3</th>\n",
       "      <td>Anson</td>\n",
       "      <td>25957</td>\n",
       "      <td>25965</td>\n",
       "      <td>25602</td>\n",
       "      <td>25165</td>\n",
       "      <td>24829</td>\n",
       "      <td>24470</td>\n",
       "      <td>24446</td>\n",
       "    </tr>\n",
       "    <tr>\n",
       "      <th>4</th>\n",
       "      <td>Ashe</td>\n",
       "      <td>26840</td>\n",
       "      <td>26764</td>\n",
       "      <td>26628</td>\n",
       "      <td>26600</td>\n",
       "      <td>26787</td>\n",
       "      <td>27099</td>\n",
       "      <td>27203</td>\n",
       "    </tr>\n",
       "  </tbody>\n",
       "</table>\n",
       "</div>"
      ],
      "text/plain": [
       "      County    2013    2014    2015    2016    2017    2018    2019\n",
       "0   Alamance  154162  155384  157037  160283  163276  166514  169509\n",
       "1  Alexander   37012   36987   36960   37133   37143   37331   37497\n",
       "2  Alleghany   10903   10891   10856   10919   10988   11138   11137\n",
       "3      Anson   25957   25965   25602   25165   24829   24470   24446\n",
       "4       Ashe   26840   26764   26628   26600   26787   27099   27203"
      ]
     },
     "execution_count": 2,
     "metadata": {},
     "output_type": "execute_result"
    }
   ],
   "source": [
    "pop_2010_2019 = pd.read_excel('C:/Users/iulia/Documents/NSS/projects/capstone/data/raw_data/NC/pop_est_2010-2019_nc.xlsx',sheet_name='Sheet1')\n",
    "pop_2010_2019 = pd.DataFrame(pop_2010_2019)\n",
    "pop_2010_2019 = pop_2010_2019.drop(['Census','Estimates Base',2010,2011,2012],axis=1)\n",
    "pop_2010_2019.head()"
   ]
  },
  {
   "cell_type": "code",
   "execution_count": 3,
   "id": "2db3d4d3",
   "metadata": {},
   "outputs": [
    {
     "data": {
      "text/html": [
       "<div>\n",
       "<style scoped>\n",
       "    .dataframe tbody tr th:only-of-type {\n",
       "        vertical-align: middle;\n",
       "    }\n",
       "\n",
       "    .dataframe tbody tr th {\n",
       "        vertical-align: top;\n",
       "    }\n",
       "\n",
       "    .dataframe thead th {\n",
       "        text-align: right;\n",
       "    }\n",
       "</style>\n",
       "<table border=\"1\" class=\"dataframe\">\n",
       "  <thead>\n",
       "    <tr style=\"text-align: right;\">\n",
       "      <th></th>\n",
       "      <th>County</th>\n",
       "      <th>2020</th>\n",
       "      <th>2021</th>\n",
       "    </tr>\n",
       "  </thead>\n",
       "  <tbody>\n",
       "    <tr>\n",
       "      <th>0</th>\n",
       "      <td>Alamance</td>\n",
       "      <td>171842</td>\n",
       "      <td>173877</td>\n",
       "    </tr>\n",
       "    <tr>\n",
       "      <th>1</th>\n",
       "      <td>Alexander</td>\n",
       "      <td>36430</td>\n",
       "      <td>36644</td>\n",
       "    </tr>\n",
       "    <tr>\n",
       "      <th>2</th>\n",
       "      <td>Alleghany</td>\n",
       "      <td>10899</td>\n",
       "      <td>11049</td>\n",
       "    </tr>\n",
       "    <tr>\n",
       "      <th>3</th>\n",
       "      <td>Anson</td>\n",
       "      <td>22030</td>\n",
       "      <td>22060</td>\n",
       "    </tr>\n",
       "    <tr>\n",
       "      <th>4</th>\n",
       "      <td>Ashe</td>\n",
       "      <td>26569</td>\n",
       "      <td>26711</td>\n",
       "    </tr>\n",
       "  </tbody>\n",
       "</table>\n",
       "</div>"
      ],
      "text/plain": [
       "      County    2020    2021\n",
       "0   Alamance  171842  173877\n",
       "1  Alexander   36430   36644\n",
       "2  Alleghany   10899   11049\n",
       "3      Anson   22030   22060\n",
       "4       Ashe   26569   26711"
      ]
     },
     "execution_count": 3,
     "metadata": {},
     "output_type": "execute_result"
    }
   ],
   "source": [
    "pop_2020_2021 = pd.read_excel('C:/Users/iulia/Documents/NSS/projects/capstone/data/raw_data/NC/pop_est_2020-2021_nc.xlsx',sheet_name='Sheet1')\n",
    "pop_2020_2021 = pd.DataFrame(pop_2020_2021)\n",
    "pop_2020_2021 = pop_2020_2021.drop('Estimates Base',axis=1)\n",
    "pop_2020_2021.head()"
   ]
  },
  {
   "cell_type": "code",
   "execution_count": 4,
   "id": "b0c5d4a9",
   "metadata": {},
   "outputs": [
    {
     "data": {
      "text/html": [
       "<div>\n",
       "<style scoped>\n",
       "    .dataframe tbody tr th:only-of-type {\n",
       "        vertical-align: middle;\n",
       "    }\n",
       "\n",
       "    .dataframe tbody tr th {\n",
       "        vertical-align: top;\n",
       "    }\n",
       "\n",
       "    .dataframe thead th {\n",
       "        text-align: right;\n",
       "    }\n",
       "</style>\n",
       "<table border=\"1\" class=\"dataframe\">\n",
       "  <thead>\n",
       "    <tr style=\"text-align: right;\">\n",
       "      <th></th>\n",
       "      <th>County</th>\n",
       "      <th>2013</th>\n",
       "      <th>2014</th>\n",
       "      <th>2015</th>\n",
       "      <th>2016</th>\n",
       "      <th>2017</th>\n",
       "      <th>2018</th>\n",
       "      <th>2019</th>\n",
       "      <th>2020</th>\n",
       "      <th>2021</th>\n",
       "    </tr>\n",
       "  </thead>\n",
       "  <tbody>\n",
       "    <tr>\n",
       "      <th>0</th>\n",
       "      <td>Alamance</td>\n",
       "      <td>154162</td>\n",
       "      <td>155384</td>\n",
       "      <td>157037</td>\n",
       "      <td>160283</td>\n",
       "      <td>163276</td>\n",
       "      <td>166514</td>\n",
       "      <td>169509</td>\n",
       "      <td>171842</td>\n",
       "      <td>173877</td>\n",
       "    </tr>\n",
       "    <tr>\n",
       "      <th>1</th>\n",
       "      <td>Alexander</td>\n",
       "      <td>37012</td>\n",
       "      <td>36987</td>\n",
       "      <td>36960</td>\n",
       "      <td>37133</td>\n",
       "      <td>37143</td>\n",
       "      <td>37331</td>\n",
       "      <td>37497</td>\n",
       "      <td>36430</td>\n",
       "      <td>36644</td>\n",
       "    </tr>\n",
       "    <tr>\n",
       "      <th>2</th>\n",
       "      <td>Alleghany</td>\n",
       "      <td>10903</td>\n",
       "      <td>10891</td>\n",
       "      <td>10856</td>\n",
       "      <td>10919</td>\n",
       "      <td>10988</td>\n",
       "      <td>11138</td>\n",
       "      <td>11137</td>\n",
       "      <td>10899</td>\n",
       "      <td>11049</td>\n",
       "    </tr>\n",
       "    <tr>\n",
       "      <th>3</th>\n",
       "      <td>Anson</td>\n",
       "      <td>25957</td>\n",
       "      <td>25965</td>\n",
       "      <td>25602</td>\n",
       "      <td>25165</td>\n",
       "      <td>24829</td>\n",
       "      <td>24470</td>\n",
       "      <td>24446</td>\n",
       "      <td>22030</td>\n",
       "      <td>22060</td>\n",
       "    </tr>\n",
       "    <tr>\n",
       "      <th>4</th>\n",
       "      <td>Ashe</td>\n",
       "      <td>26840</td>\n",
       "      <td>26764</td>\n",
       "      <td>26628</td>\n",
       "      <td>26600</td>\n",
       "      <td>26787</td>\n",
       "      <td>27099</td>\n",
       "      <td>27203</td>\n",
       "      <td>26569</td>\n",
       "      <td>26711</td>\n",
       "    </tr>\n",
       "  </tbody>\n",
       "</table>\n",
       "</div>"
      ],
      "text/plain": [
       "      County    2013    2014    2015    2016    2017    2018    2019    2020    2021\n",
       "0   Alamance  154162  155384  157037  160283  163276  166514  169509  171842  173877\n",
       "1  Alexander   37012   36987   36960   37133   37143   37331   37497   36430   36644\n",
       "2  Alleghany   10903   10891   10856   10919   10988   11138   11137   10899   11049\n",
       "3      Anson   25957   25965   25602   25165   24829   24470   24446   22030   22060\n",
       "4       Ashe   26840   26764   26628   26600   26787   27099   27203   26569   26711"
      ]
     },
     "execution_count": 4,
     "metadata": {},
     "output_type": "execute_result"
    }
   ],
   "source": [
    "pop_combined = pd.merge(pop_2010_2019,pop_2020_2021,how=\"left\",on=\"County\")\n",
    "pop_combined.drop(index=pop_combined.index[-1],axis=0,inplace=True)\n",
    "pop_combined.head()"
   ]
  },
  {
   "cell_type": "code",
   "execution_count": 5,
   "id": "bc02fa6f",
   "metadata": {},
   "outputs": [
    {
     "data": {
      "text/html": [
       "<div>\n",
       "<style scoped>\n",
       "    .dataframe tbody tr th:only-of-type {\n",
       "        vertical-align: middle;\n",
       "    }\n",
       "\n",
       "    .dataframe tbody tr th {\n",
       "        vertical-align: top;\n",
       "    }\n",
       "\n",
       "    .dataframe thead th {\n",
       "        text-align: right;\n",
       "    }\n",
       "</style>\n",
       "<table border=\"1\" class=\"dataframe\">\n",
       "  <thead>\n",
       "    <tr style=\"text-align: right;\">\n",
       "      <th></th>\n",
       "      <th>CBSA Title</th>\n",
       "      <th>Metropolitan/Micropolitan Statistical Area</th>\n",
       "      <th>County</th>\n",
       "      <th>State Name</th>\n",
       "    </tr>\n",
       "  </thead>\n",
       "  <tbody>\n",
       "    <tr>\n",
       "      <th>1</th>\n",
       "      <td>Burlington, NC</td>\n",
       "      <td>Metropolitan Statistical Area</td>\n",
       "      <td>Alamance</td>\n",
       "      <td>North Carolina</td>\n",
       "    </tr>\n",
       "    <tr>\n",
       "      <th>2</th>\n",
       "      <td>Hickory-Lenoir-Morganton, NC</td>\n",
       "      <td>Metropolitan Statistical Area</td>\n",
       "      <td>Alexander</td>\n",
       "      <td>North Carolina</td>\n",
       "    </tr>\n",
       "    <tr>\n",
       "      <th>7</th>\n",
       "      <td>Charlotte-Concord-Gastonia, NC-SC</td>\n",
       "      <td>Metropolitan Statistical Area</td>\n",
       "      <td>Anson</td>\n",
       "      <td>North Carolina</td>\n",
       "    </tr>\n",
       "    <tr>\n",
       "      <th>21</th>\n",
       "      <td>Washington, NC</td>\n",
       "      <td>Micropolitan Statistical Area</td>\n",
       "      <td>Beaufort</td>\n",
       "      <td>North Carolina</td>\n",
       "    </tr>\n",
       "    <tr>\n",
       "      <th>38</th>\n",
       "      <td>Myrtle Beach-Conway-North Myrtle Beach, SC-NC</td>\n",
       "      <td>Metropolitan Statistical Area</td>\n",
       "      <td>Brunswick</td>\n",
       "      <td>North Carolina</td>\n",
       "    </tr>\n",
       "  </tbody>\n",
       "</table>\n",
       "</div>"
      ],
      "text/plain": [
       "                                       CBSA Title Metropolitan/Micropolitan Statistical Area     County      State Name\n",
       "1                                  Burlington, NC              Metropolitan Statistical Area   Alamance  North Carolina\n",
       "2                    Hickory-Lenoir-Morganton, NC              Metropolitan Statistical Area  Alexander  North Carolina\n",
       "7               Charlotte-Concord-Gastonia, NC-SC              Metropolitan Statistical Area      Anson  North Carolina\n",
       "21                                 Washington, NC              Micropolitan Statistical Area   Beaufort  North Carolina\n",
       "38  Myrtle Beach-Conway-North Myrtle Beach, SC-NC              Metropolitan Statistical Area  Brunswick  North Carolina"
      ]
     },
     "execution_count": 5,
     "metadata": {},
     "output_type": "execute_result"
    }
   ],
   "source": [
    "metros = pd.read_excel('C:/Users/iulia/Documents/NSS/projects/capstone/data/metro_areas.xlsx',sheet_name='Filtered_States')\n",
    "metros_df = pd.DataFrame(metros)\n",
    "metros_nc = metros_df[metros_df['State Name']=='North Carolina']\n",
    "metros_nc.head()"
   ]
  },
  {
   "cell_type": "markdown",
   "id": "32bb829e",
   "metadata": {},
   "source": [
    "### Extracting data for years 2013 thru 2016 and combining with pop along with Metropolitans and Micropolitans"
   ]
  },
  {
   "cell_type": "code",
   "execution_count": 6,
   "id": "e542bac4",
   "metadata": {},
   "outputs": [],
   "source": [
    "file_2013_2016 ='C:/Users/iulia/Documents/NSS/projects/capstone/data/raw_data/NC/NC_2012_2016.pdf'"
   ]
  },
  {
   "cell_type": "code",
   "execution_count": 7,
   "id": "a1d94255",
   "metadata": {},
   "outputs": [
    {
     "data": {
      "text/plain": [
       "['Alamance County',\n",
       " '2012 2013 2014 2015 2016 5 Year Avg.',\n",
       " 'Reportable Crashes Injuries Crashes Injuries Crashes Injuries Crashes Injuries Crashes Injuries Crashes Injuries',\n",
       " 'Fatal 13 13 21 23 9 9 23 23 14 15 16 17',\n",
       " 'Non Fatal Injury 1,092 1,669 1,136 1,731 1,152 1,767 1,244 1,940 1,275 2,027 1,180 1,827',\n",
       " 'PDO 2,157 2,349 2,574 2,558 2,798 2,487',\n",
       " 'Total 3,262 1,682 3,506 1,754 3,735 1,776 3,825 1,963 4,087 2,042 3,683 1,843']"
      ]
     },
     "execution_count": 7,
     "metadata": {},
     "output_type": "execute_result"
    }
   ],
   "source": [
    "pdf = pdfplumber.open(file_2013_2016)\n",
    "txt = pdf.pages[42].extract_text()\n",
    "txt = txt.split(\"\\n\")\n",
    "new_list = txt[0:7]\n",
    "new_list"
   ]
  },
  {
   "cell_type": "code",
   "execution_count": 8,
   "id": "78b7356e",
   "metadata": {},
   "outputs": [
    {
     "name": "stdout",
     "output_type": "stream",
     "text": [
      "Alamance ['2012', '2013', '2014', '2015', '2016', '5', 'Year', 'Avg.'] ['21', '23', '9', '9', '23', '23', '14', '15'] ['3,506', '1,754', '3,735', '1,776', '3,825', '1,963', '4,087', '2,042']\n"
     ]
    }
   ],
   "source": [
    "county = new_list[0]\n",
    "county = county.replace(\"County\",\"\")\n",
    "county = county.strip()\n",
    "year = new_list[1]\n",
    "year = year.split(\" \")\n",
    "fatalaties = new_list[3].split(\" \")\n",
    "del fatalaties[0:3]\n",
    "del fatalaties[-2:]\n",
    "total = new_list[6].split(\" \")\n",
    "del total[0:3]\n",
    "del total[-2:]\n",
    "print(county,year,fatalaties,total)    "
   ]
  },
  {
   "cell_type": "code",
   "execution_count": 9,
   "id": "31837b8a",
   "metadata": {},
   "outputs": [
    {
     "name": "stdout",
     "output_type": "stream",
     "text": [
      "2013 {'County': 'Alamance', 'fatalaties': '23', 'injuries': '1,754', 'total_crashes': '3,506'}\n"
     ]
    }
   ],
   "source": [
    "my_dic_2013 = {}\n",
    "my_dic_2013['County'] = county\n",
    "my_dic_2013['fatalaties'] = fatalaties[1]\n",
    "my_dic_2013['injuries'] = total[1]\n",
    "my_dic_2013['total_crashes'] = total[0]\n",
    "year = year[1]\n",
    "print(year,my_dic_2013) "
   ]
  },
  {
   "cell_type": "code",
   "execution_count": 10,
   "id": "89ad0a75",
   "metadata": {},
   "outputs": [
    {
     "data": {
      "text/plain": [
       "{'County': 'Alamance',\n",
       " 'fatalaties': '9',\n",
       " 'injuries': '1,776',\n",
       " 'total_crashes': '3,735'}"
      ]
     },
     "execution_count": 10,
     "metadata": {},
     "output_type": "execute_result"
    }
   ],
   "source": [
    "my_dic_2014 = {}\n",
    "my_dic_2014['County'] = county\n",
    "my_dic_2014['fatalaties'] = fatalaties[3]\n",
    "my_dic_2014['injuries'] = total[3]\n",
    "my_dic_2014['total_crashes'] = total[2]\n",
    "my_dic_2014"
   ]
  },
  {
   "cell_type": "code",
   "execution_count": 11,
   "id": "d667644a",
   "metadata": {},
   "outputs": [
    {
     "data": {
      "text/plain": [
       "{'County': 'Alamance',\n",
       " 'fatalaties': '23',\n",
       " 'injuries': '1,963',\n",
       " 'total_crashes': '3,825'}"
      ]
     },
     "execution_count": 11,
     "metadata": {},
     "output_type": "execute_result"
    }
   ],
   "source": [
    "my_dic_2015 = {}\n",
    "my_dic_2015['County'] = county\n",
    "my_dic_2015['fatalaties'] = fatalaties[5]\n",
    "my_dic_2015['injuries'] = total[5]\n",
    "my_dic_2015['total_crashes'] = total[4]\n",
    "my_dic_2015"
   ]
  },
  {
   "cell_type": "code",
   "execution_count": 12,
   "id": "317b0668",
   "metadata": {},
   "outputs": [
    {
     "name": "stdout",
     "output_type": "stream",
     "text": [
      "{'County': 'Alamance', 'fatalaties': '15', 'injuries': '2,042', 'total_crashes': '4,087'}\n"
     ]
    }
   ],
   "source": [
    "my_dic_2016 = {}\n",
    "my_dic_2016['County'] = county\n",
    "my_dic_2016['fatalaties'] = fatalaties[7]\n",
    "my_dic_2016['injuries'] = total[7]\n",
    "my_dic_2016['total_crashes'] = total[6]\n",
    "print(my_dic_2016)"
   ]
  },
  {
   "cell_type": "code",
   "execution_count": 13,
   "id": "6c24bd8f",
   "metadata": {},
   "outputs": [],
   "source": [
    "fl_l_2013 = []\n",
    "fl_l_2014 = []\n",
    "fl_l_2015 = []\n",
    "fl_l_2016 = []\n",
    "pages = list(range(42,142))\n",
    "pdf = pdfplumber.open(file_2013_2016)\n",
    "for page in pages:\n",
    "    my_dic_2013 = {}\n",
    "    my_dic_2014 = {}\n",
    "    my_dic_2015 = {}\n",
    "    my_dic_2016 = {}\n",
    "    txt =pdf.pages[page].extract_text()\n",
    "    txt = txt.split(\"\\n\")\n",
    "    new_list = txt[0:7]\n",
    "    county = new_list[0]\n",
    "    county = county.replace(\"County\",\"\")\n",
    "    county = county.strip()\n",
    "    fatalaties = new_list[3].split(\" \")\n",
    "    del fatalaties[0:3]\n",
    "    del fatalaties[-2:]\n",
    "    total = new_list[6].split(\" \")\n",
    "    del total[0:3]\n",
    "    del total[-2:]\n",
    "    my_dic_2013['County'] = county\n",
    "    my_dic_2013['fatalaties'] = fatalaties[1]\n",
    "    my_dic_2013['injuries'] = total[1]\n",
    "    my_dic_2013['total_crashes'] = total[0]\n",
    "    fl_l_2013.append(my_dic_2013)\n",
    "    my_dic_2014['County'] = county\n",
    "    my_dic_2014['fatalaties'] = fatalaties[3]\n",
    "    my_dic_2014['injuries'] = total[3]\n",
    "    my_dic_2014['total_crashes'] = total[2]\n",
    "    fl_l_2014.append(my_dic_2014)\n",
    "    my_dic_2015['County'] = county\n",
    "    my_dic_2015['fatalaties'] = fatalaties[5]\n",
    "    my_dic_2015['injuries'] = total[5]\n",
    "    my_dic_2015['total_crashes'] = total[4]\n",
    "    fl_l_2015.append(my_dic_2015)\n",
    "    my_dic_2016['County'] = county\n",
    "    my_dic_2016['fatalaties'] = fatalaties[7]\n",
    "    my_dic_2016['injuries'] = total[7]\n",
    "    my_dic_2016['total_crashes'] = total[6]\n",
    "    fl_l_2016.append(my_dic_2016)\n",
    "nc_df_2013 = pd.DataFrame(fl_l_2013)\n",
    "nc_df_2014 = pd.DataFrame(fl_l_2014)\n",
    "nc_df_2015 = pd.DataFrame(fl_l_2015) \n",
    "nc_df_2016 = pd.DataFrame(fl_l_2016)\n",
    "df_pop_nc13 = pd.merge(nc_df_2013,pop_combined[['County', 2013]],on=\"County\",how='left')\n",
    "df_pop_nc14 = pd.merge(nc_df_2014,pop_combined[['County', 2014]],on=\"County\",how='left')\n",
    "df_pop_nc15 = pd.merge(nc_df_2015,pop_combined[['County', 2015]],on=\"County\",how='left')\n",
    "df_pop_nc16 = pd.merge(nc_df_2016,pop_combined[['County', 2016]],on=\"County\",how='left')\n",
    "df_comb_nc13 = pd.merge(df_pop_nc13,metros_nc[['CBSA Title','Metropolitan/Micropolitan Statistical Area','County']],on=\"County\",how='left')\n",
    "df_comb_nc14 = pd.merge(df_pop_nc14,metros_nc[['CBSA Title','Metropolitan/Micropolitan Statistical Area','County']],on=\"County\",how='left')\n",
    "df_comb_nc15 = pd.merge(df_pop_nc15,metros_nc[['CBSA Title','Metropolitan/Micropolitan Statistical Area','County']],on=\"County\",how='left')\n",
    "df_comb_nc16 = pd.merge(df_pop_nc16,metros_nc[['CBSA Title','Metropolitan/Micropolitan Statistical Area','County']],on=\"County\",how='left')\n",
    "df_comb_nc13.to_excel('C:/Users/iulia/Documents/NSS/projects/capstone/data/cleaned_data/2013_NC.xlsx', engine='xlsxwriter',index=False)\n",
    "df_comb_nc14.to_excel('C:/Users/iulia/Documents/NSS/projects/capstone/data/cleaned_data/2014_NC.xlsx', engine='xlsxwriter',index=False)\n",
    "df_comb_nc15.to_excel('C:/Users/iulia/Documents/NSS/projects/capstone/data/cleaned_data/2015_NC.xlsx', engine='xlsxwriter',index=False)\n",
    "df_comb_nc16.to_excel('C:/Users/iulia/Documents/NSS/projects/capstone/data/cleaned_data/2016_NC.xlsx', engine='xlsxwriter',index=False)"
   ]
  },
  {
   "cell_type": "markdown",
   "id": "00b2a71a",
   "metadata": {},
   "source": [
    "### Extracting data for years 2017 thru 2020 and combining with pop along with Metropolitans and Micropolitans"
   ]
  },
  {
   "cell_type": "code",
   "execution_count": 14,
   "id": "52e7248d",
   "metadata": {},
   "outputs": [],
   "source": [
    "file_2017_2020 ='C:/Users/iulia/Documents/NSS/projects/capstone/data/raw_data/NC/NC_2016_2020.pdf'"
   ]
  },
  {
   "cell_type": "code",
   "execution_count": 15,
   "id": "255d4f3a",
   "metadata": {},
   "outputs": [
    {
     "data": {
      "text/plain": [
       "['Alamance County',\n",
       " '2016 2017 2018 2019 2020 5 Year Avg.',\n",
       " 'Reportable Crashes Injuries Crashes Injuries Crashes Injuries Crashes Injuries Crashes Injuries Crashes Injuries',\n",
       " 'Fatal 14 15 22 23 17 19 14 15 29 29 19 20',\n",
       " 'Non Fatal Injury 1,275 2,027 1,247 1,931 1,203 1,833 1,270 1,987 1,131 1,774 1,225 1,910',\n",
       " 'PDO 2,798 2,761 3,105 2,962 2,810 2,887',\n",
       " 'Total 4,087 2,042 4,030 1,954 4,325 1,852 4,246 2,002 3,970 1,803 4,132 1,931']"
      ]
     },
     "execution_count": 15,
     "metadata": {},
     "output_type": "execute_result"
    }
   ],
   "source": [
    "pdf = pdfplumber.open(file_2017_2020)\n",
    "txt = pdf.pages[42].extract_text()\n",
    "txt = txt.split(\"\\n\")\n",
    "new_list = txt[0:7]\n",
    "new_list"
   ]
  },
  {
   "cell_type": "code",
   "execution_count": 16,
   "id": "de3d308a",
   "metadata": {},
   "outputs": [
    {
     "name": "stdout",
     "output_type": "stream",
     "text": [
      "Alamance ['22', '23', '17', '19', '14', '15', '29', '29'] ['4,030', '1,954', '4,325', '1,852', '4,246', '2,002', '3,970', '1,803']\n"
     ]
    }
   ],
   "source": [
    "county = new_list[0]\n",
    "county = county.replace(\"County\",\"\")\n",
    "county = county.strip()\n",
    "fatalaties = new_list[3].split(\" \")\n",
    "del fatalaties[0:3]\n",
    "del fatalaties[-2:]\n",
    "total = new_list[6].split(\" \")\n",
    "del total[0:3]\n",
    "del total[-2:]\n",
    "print(county,fatalaties,total)"
   ]
  },
  {
   "cell_type": "code",
   "execution_count": 17,
   "id": "6ba86462",
   "metadata": {},
   "outputs": [],
   "source": [
    "fl_l_2017 = []\n",
    "fl_l_2018 = []\n",
    "fl_l_2019 = []\n",
    "fl_l_2020 = []\n",
    "pages = list(range(42,142))\n",
    "pdf = pdfplumber.open(file_2017_2020)\n",
    "for page in pages:\n",
    "    my_dic_2017 = {}\n",
    "    my_dic_2018 = {}\n",
    "    my_dic_2019 = {}\n",
    "    my_dic_2020 = {}\n",
    "    txt =pdf.pages[page].extract_text()\n",
    "    txt = txt.split(\"\\n\")\n",
    "    new_list = txt[0:7]\n",
    "    county = new_list[0]\n",
    "    county = county.replace(\"County\",\"\")\n",
    "    county = county.strip()\n",
    "    fatalaties = new_list[3].split(\" \")\n",
    "    del fatalaties[0:3]\n",
    "    del fatalaties[-2:]\n",
    "    total = new_list[6].split(\" \")\n",
    "    del total[0:3]\n",
    "    del total[-2:]\n",
    "    my_dic_2017['County'] = county\n",
    "    my_dic_2017['fatalaties'] = fatalaties[1]\n",
    "    my_dic_2017['injuries'] = total[1]\n",
    "    my_dic_2017['total_crashes'] = total[0]\n",
    "    fl_l_2017.append(my_dic_2017)\n",
    "    my_dic_2018['County'] = county\n",
    "    my_dic_2018['fatalaties'] = fatalaties[3]\n",
    "    my_dic_2018['injuries'] = total[3]\n",
    "    my_dic_2018['total_crashes'] = total[2]\n",
    "    fl_l_2018.append(my_dic_2018)\n",
    "    my_dic_2019['County'] = county\n",
    "    my_dic_2019['fatalaties'] = fatalaties[5]\n",
    "    my_dic_2019['injuries'] = total[5]\n",
    "    my_dic_2019['total_crashes'] = total[4]\n",
    "    fl_l_2019.append(my_dic_2019)\n",
    "    my_dic_2020['County'] = county\n",
    "    my_dic_2020['fatalaties'] = fatalaties[7]\n",
    "    my_dic_2020['injuries'] = total[7]\n",
    "    my_dic_2020['total_crashes'] = total[6]\n",
    "    fl_l_2020.append(my_dic_2020)\n",
    "nc_df_2017 = pd.DataFrame(fl_l_2017)\n",
    "nc_df_2018 = pd.DataFrame(fl_l_2018)\n",
    "nc_df_2019 = pd.DataFrame(fl_l_2019) \n",
    "nc_df_2020 = pd.DataFrame(fl_l_2020)\n",
    "df_pop_nc17 = pd.merge(nc_df_2017,pop_combined[['County', 2017]],on=\"County\",how='left')\n",
    "df_pop_nc18 = pd.merge(nc_df_2018,pop_combined[['County', 2018]],on=\"County\",how='left')\n",
    "df_pop_nc19 = pd.merge(nc_df_2019,pop_combined[['County', 2019]],on=\"County\",how='left')\n",
    "df_pop_nc20 = pd.merge(nc_df_2020,pop_combined[['County', 2020]],on=\"County\",how='left')\n",
    "df_comb_nc17 = pd.merge(df_pop_nc17,metros_nc[['CBSA Title','Metropolitan/Micropolitan Statistical Area','County']],on=\"County\",how='left')\n",
    "df_comb_nc18 = pd.merge(df_pop_nc18,metros_nc[['CBSA Title','Metropolitan/Micropolitan Statistical Area','County']],on=\"County\",how='left')\n",
    "df_comb_nc19 = pd.merge(df_pop_nc19,metros_nc[['CBSA Title','Metropolitan/Micropolitan Statistical Area','County']],on=\"County\",how='left')\n",
    "df_comb_nc20 = pd.merge(df_pop_nc20,metros_nc[['CBSA Title','Metropolitan/Micropolitan Statistical Area','County']],on=\"County\",how='left')\n",
    "df_comb_nc17.to_excel('C:/Users/iulia/Documents/NSS/projects/capstone/data/cleaned_data/2017_NC.xlsx', engine='xlsxwriter',index=False)\n",
    "df_comb_nc18.to_excel('C:/Users/iulia/Documents/NSS/projects/capstone/data/cleaned_data/2018_NC.xlsx', engine='xlsxwriter',index=False)\n",
    "df_comb_nc19.to_excel('C:/Users/iulia/Documents/NSS/projects/capstone/data/cleaned_data/2019_NC.xlsx', engine='xlsxwriter',index=False)\n",
    "df_comb_nc20.to_excel('C:/Users/iulia/Documents/NSS/projects/capstone/data/cleaned_data/2020_NC.xlsx', engine='xlsxwriter',index=False)"
   ]
  }
 ],
 "metadata": {
  "kernelspec": {
   "display_name": "Python 3 (ipykernel)",
   "language": "python",
   "name": "python3"
  },
  "language_info": {
   "codemirror_mode": {
    "name": "ipython",
    "version": 3
   },
   "file_extension": ".py",
   "mimetype": "text/x-python",
   "name": "python",
   "nbconvert_exporter": "python",
   "pygments_lexer": "ipython3",
   "version": "3.9.7"
  }
 },
 "nbformat": 4,
 "nbformat_minor": 5
}
